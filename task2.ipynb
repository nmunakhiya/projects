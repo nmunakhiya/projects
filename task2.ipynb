{
 "cells": [
  {
   "cell_type": "markdown",
   "id": "b7955a61",
   "metadata": {
    "papermill": {
     "duration": 0.031858,
     "end_time": "2021-07-07T11:17:01.263469",
     "exception": false,
     "start_time": "2021-07-07T11:17:01.231611",
     "status": "completed"
    },
    "tags": []
   },
   "source": []
  },
  {
   "cell_type": "markdown",
   "id": "b4d1681d",
   "metadata": {
    "papermill": {
     "duration": 0.029403,
     "end_time": "2021-07-07T11:17:01.322017",
     "exception": false,
     "start_time": "2021-07-07T11:17:01.292614",
     "status": "completed"
    },
    "tags": []
   },
   "source": [
    "#                             FLIGHT TAKE OFF DATA\n",
    "\n",
    "This data is about flights leaving from JKF ariport between Nov 2019-Dec-2020. Taxi-Out prediction has been an important concept as it helps in calculating Runway time and directly impact the cost of the flight.\n",
    "About the data \n",
    "* Month = 1-12\n",
    "* Day_of_onth= 1-31\n",
    "* Day_Of_Week= 1 (Monday) - 7 (Sunday)\n",
    "* Dep_Time_M =actual departure time (local, hhmm)\n",
    "* CRS_Dep_M =scheduled departure time (local, hhmm)\n",
    "* sch_Arr =actual arrival time (local, hhmm)\n",
    "* CRS_Arr_m= scheduled arrival time (local, hhmm)\n",
    "* op_unique_Carrier= unique carrier code\n",
    "  \"B6\" \"DL\" \"AA\" \"AS\" \"MQ\" \"9E\" \"YX\" \"HA\" \"OO\"\n",
    "* Tail_Num =plane tail number\n",
    "* Wind = Direction\n",
    "* Wind speed = In num\n",
    "* Tempratue =in celcius\n",
    "* Pressure\n",
    "* humidity \n",
    "* Arr_Delay =Difference in minutes between scheduled and actual arrival time. Early arrivals show negative numbers, in minutes\n",
    "* Dep_Delay =Difference in minutes between scheduled and actual departure time. Early departures show negative numbers, in minutes\n",
    "* Dest= destination IATA airport code\n",
    "* Distance =Distance between airports (miles)\n",
    "* TaxiOut(Y Dependent Var)= The time elapsed between departure from the origin airport gate and wheels off, in minutes"
   ]
  },
  {
   "cell_type": "code",
   "execution_count": 1,
   "id": "bed7eb5a",
   "metadata": {
    "_execution_state": "idle",
    "_uuid": "051d70d956493feee0c6d64651c6a088724dca2a",
    "execution": {
     "iopub.execute_input": "2021-07-07T11:17:01.391588Z",
     "iopub.status.busy": "2021-07-07T11:17:01.388786Z",
     "iopub.status.idle": "2021-07-07T11:17:05.821882Z",
     "shell.execute_reply": "2021-07-07T11:17:05.819137Z"
    },
    "papermill": {
     "duration": 4.469755,
     "end_time": "2021-07-07T11:17:05.822172",
     "exception": false,
     "start_time": "2021-07-07T11:17:01.352417",
     "status": "completed"
    },
    "tags": []
   },
   "outputs": [
    {
     "name": "stderr",
     "output_type": "stream",
     "text": [
      "\n",
      "Attaching package: ‘CatEncoders’\n",
      "\n",
      "\n",
      "The following object is masked from ‘package:base’:\n",
      "\n",
      "    transform\n",
      "\n",
      "\n",
      "Loading required package: zoo\n",
      "\n",
      "\n",
      "Attaching package: ‘zoo’\n",
      "\n",
      "\n",
      "The following objects are masked from ‘package:base’:\n",
      "\n",
      "    as.Date, as.Date.numeric\n",
      "\n",
      "\n",
      "Loading required package: lattice\n",
      "\n",
      "Loading required package: ggplot2\n",
      "\n",
      "\n",
      "Attaching package: ‘caret’\n",
      "\n",
      "\n",
      "The following objects are masked from ‘package:Metrics’:\n",
      "\n",
      "    precision, recall\n",
      "\n",
      "\n",
      "The following object is masked from ‘package:httr’:\n",
      "\n",
      "    progress\n",
      "\n",
      "\n",
      "Loading required package: carData\n",
      "\n",
      "dummies-1.5.6 provided by Decision Patterns\n",
      "\n",
      "\n",
      "Loading required package: R6\n",
      "\n",
      "\n",
      "\u001b[36m──\u001b[39m \u001b[1m\u001b[1mColumn specification\u001b[1m\u001b[22m \u001b[36m────────────────────────────────────────────────────────\u001b[39m\n",
      "cols(\n",
      "  .default = col_double(),\n",
      "  OP_UNIQUE_CARRIER = \u001b[31mcol_character()\u001b[39m,\n",
      "  TAIL_NUM = \u001b[31mcol_character()\u001b[39m,\n",
      "  DEST = \u001b[31mcol_character()\u001b[39m,\n",
      "  Wind = \u001b[31mcol_character()\u001b[39m,\n",
      "  Condition = \u001b[31mcol_character()\u001b[39m\n",
      ")\n",
      "\u001b[36mℹ\u001b[39m Use \u001b[30m\u001b[47m\u001b[30m\u001b[47m`spec()`\u001b[47m\u001b[30m\u001b[49m\u001b[39m for the full column specifications.\n",
      "\n",
      "\n"
     ]
    },
    {
     "data": {
      "text/plain": [
       "     MONTH         DAY_OF_MONTH    DAY_OF_WEEK    OP_UNIQUE_CARRIER \n",
       " Min.   : 1.000   Min.   : 1.00   Min.   :1.000   Length:28820      \n",
       " 1st Qu.: 1.000   1st Qu.: 8.00   1st Qu.:2.000   Class :character  \n",
       " Median :11.000   Median :16.00   Median :4.000   Mode  :character  \n",
       " Mean   : 7.894   Mean   :16.02   Mean   :4.009                     \n",
       " 3rd Qu.:12.000   3rd Qu.:24.00   3rd Qu.:6.000                     \n",
       " Max.   :12.000   Max.   :31.00   Max.   :7.000                     \n",
       "   TAIL_NUM             DEST             DEP_DELAY        CRS_ELAPSED_TIME\n",
       " Length:28820       Length:28820       Min.   : -22.000   Min.   : 57.0   \n",
       " Class :character   Class :character   1st Qu.:  -6.000   1st Qu.:124.0   \n",
       " Mode  :character   Mode  :character   Median :  -3.000   Median :188.0   \n",
       "                                       Mean   :   6.375   Mean   :225.3   \n",
       "                                       3rd Qu.:   2.000   3rd Qu.:365.0   \n",
       "                                       Max.   :1276.000   Max.   :697.0   \n",
       "    DISTANCE      CRS_DEP_M      DEP_TIME_M       CRS_ARR_M     \n",
       " Min.   :  94   Min.   : 301   Min.   :   1.0   Min.   :   1.0  \n",
       " 1st Qu.: 483   1st Qu.: 545   1st Qu.: 542.0   1st Qu.: 667.0  \n",
       " Median :1029   Median : 856   Median : 854.0   Median : 918.0  \n",
       " Mean   :1268   Mean   : 831   Mean   : 828.9   Mean   : 910.9  \n",
       " 3rd Qu.:2248   3rd Qu.:1095   3rd Qu.:1097.0   3rd Qu.:1193.0  \n",
       " Max.   :4983   Max.   :1439   Max.   :1440.0   Max.   :1439.0  \n",
       "  Temperature      Dew Point        Humidity         Wind          \n",
       " Min.   :17.00   Min.   :-3.00   Min.   : 0.00   Length:28820      \n",
       " 1st Qu.:36.00   1st Qu.:23.00   1st Qu.:46.00   Class :character  \n",
       " Median :42.00   Median :31.00   Median :59.00   Mode  :character  \n",
       " Mean   :41.49   Mean   :30.45   Mean   :57.73                     \n",
       " 3rd Qu.:47.00   3rd Qu.:39.00   3rd Qu.:74.00                     \n",
       " Max.   :68.00   Max.   :67.00   Max.   :97.00                     \n",
       "   Wind Speed      Wind Gust         Pressure      Condition        \n",
       " Min.   : 0.00   Min.   : 0.000   Min.   :29.20   Length:28820      \n",
       " 1st Qu.: 8.00   1st Qu.: 0.000   1st Qu.:29.88   Class :character  \n",
       " Median :12.00   Median : 0.000   Median :30.11   Mode  :character  \n",
       " Mean   :12.37   Mean   : 5.535   Mean   :30.09                     \n",
       " 3rd Qu.:16.00   3rd Qu.: 0.000   3rd Qu.:30.32                     \n",
       " Max.   :36.00   Max.   :49.000   Max.   :30.75                     \n",
       "    sch_dep         sch_arr         TAXI_OUT    \n",
       " Min.   : 0.00   Min.   : 0.00   Min.   : 5.00  \n",
       " 1st Qu.:26.00   1st Qu.:21.00   1st Qu.:16.00  \n",
       " Median :30.00   Median :30.00   Median :19.00  \n",
       " Mean   :31.09   Mean   :28.43   Mean   :20.86  \n",
       " 3rd Qu.:37.00   3rd Qu.:35.00   3rd Qu.:25.00  \n",
       " Max.   :55.00   Max.   :46.00   Max.   :41.00  "
      ]
     },
     "metadata": {},
     "output_type": "display_data"
    },
    {
     "data": {
      "text/html": [
       "<style>\n",
       ".list-inline {list-style: none; margin:0; padding: 0}\n",
       ".list-inline>li {display: inline-block}\n",
       ".list-inline>li:not(:last-child)::after {content: \"\\00b7\"; padding: 0 .5ex}\n",
       "</style>\n",
       "<ol class=list-inline><li>'Condition'</li><li>'CRS_ARR_M'</li><li>'CRS_DEP_M'</li><li>'CRS_ELAPSED_TIME'</li><li>'DAY_OF_MONTH'</li><li>'DAY_OF_WEEK'</li><li>'DEP_DELAY'</li><li>'DEP_TIME_M'</li><li>'DEST'</li><li>'Dew Point'</li><li>'DISTANCE'</li><li>'Humidity'</li><li>'MONTH'</li><li>'OP_UNIQUE_CARRIER'</li><li>'Pressure'</li><li>'sch_arr'</li><li>'sch_dep'</li><li>'TAIL_NUM'</li><li>'TAXI_OUT'</li><li>'Temperature'</li><li>'Wind'</li><li>'Wind Gust'</li><li>'Wind Speed'</li></ol>\n"
      ],
      "text/latex": [
       "\\begin{enumerate*}\n",
       "\\item 'Condition'\n",
       "\\item 'CRS\\_ARR\\_M'\n",
       "\\item 'CRS\\_DEP\\_M'\n",
       "\\item 'CRS\\_ELAPSED\\_TIME'\n",
       "\\item 'DAY\\_OF\\_MONTH'\n",
       "\\item 'DAY\\_OF\\_WEEK'\n",
       "\\item 'DEP\\_DELAY'\n",
       "\\item 'DEP\\_TIME\\_M'\n",
       "\\item 'DEST'\n",
       "\\item 'Dew Point'\n",
       "\\item 'DISTANCE'\n",
       "\\item 'Humidity'\n",
       "\\item 'MONTH'\n",
       "\\item 'OP\\_UNIQUE\\_CARRIER'\n",
       "\\item 'Pressure'\n",
       "\\item 'sch\\_arr'\n",
       "\\item 'sch\\_dep'\n",
       "\\item 'TAIL\\_NUM'\n",
       "\\item 'TAXI\\_OUT'\n",
       "\\item 'Temperature'\n",
       "\\item 'Wind'\n",
       "\\item 'Wind Gust'\n",
       "\\item 'Wind Speed'\n",
       "\\end{enumerate*}\n"
      ],
      "text/markdown": [
       "1. 'Condition'\n",
       "2. 'CRS_ARR_M'\n",
       "3. 'CRS_DEP_M'\n",
       "4. 'CRS_ELAPSED_TIME'\n",
       "5. 'DAY_OF_MONTH'\n",
       "6. 'DAY_OF_WEEK'\n",
       "7. 'DEP_DELAY'\n",
       "8. 'DEP_TIME_M'\n",
       "9. 'DEST'\n",
       "10. 'Dew Point'\n",
       "11. 'DISTANCE'\n",
       "12. 'Humidity'\n",
       "13. 'MONTH'\n",
       "14. 'OP_UNIQUE_CARRIER'\n",
       "15. 'Pressure'\n",
       "16. 'sch_arr'\n",
       "17. 'sch_dep'\n",
       "18. 'TAIL_NUM'\n",
       "19. 'TAXI_OUT'\n",
       "20. 'Temperature'\n",
       "21. 'Wind'\n",
       "22. 'Wind Gust'\n",
       "23. 'Wind Speed'\n",
       "\n",
       "\n"
      ],
      "text/plain": [
       " [1] \"Condition\"         \"CRS_ARR_M\"         \"CRS_DEP_M\"        \n",
       " [4] \"CRS_ELAPSED_TIME\"  \"DAY_OF_MONTH\"      \"DAY_OF_WEEK\"      \n",
       " [7] \"DEP_DELAY\"         \"DEP_TIME_M\"        \"DEST\"             \n",
       "[10] \"Dew Point\"         \"DISTANCE\"          \"Humidity\"         \n",
       "[13] \"MONTH\"             \"OP_UNIQUE_CARRIER\" \"Pressure\"         \n",
       "[16] \"sch_arr\"           \"sch_dep\"           \"TAIL_NUM\"         \n",
       "[19] \"TAXI_OUT\"          \"Temperature\"       \"Wind\"             \n",
       "[22] \"Wind Gust\"         \"Wind Speed\"       "
      ]
     },
     "metadata": {},
     "output_type": "display_data"
    }
   ],
   "source": [
    "library(caTools)#for splitting\n",
    "library(CatEncoders) # label & one hot encoding\n",
    "library(lmtest) \n",
    "library(e1071)# For svr model\n",
    "library(Metrics)\n",
    "library(caret)\n",
    "library(car)\n",
    "library(dummies)\n",
    "library(superml)\n",
    "\n",
    "\n",
    "library(readr)\n",
    "M1 <- read_csv(\"../input/transformed-m1/M1_final.csv\")\n",
    "summary(M1)\n",
    "ls(M1)\n"
   ]
  },
  {
   "cell_type": "markdown",
   "id": "1fb8eb49",
   "metadata": {
    "papermill": {
     "duration": 0.036993,
     "end_time": "2021-07-07T11:17:05.896776",
     "exception": false,
     "start_time": "2021-07-07T11:17:05.859783",
     "status": "completed"
    },
    "tags": []
   },
   "source": [
    "# Splitting Data"
   ]
  },
  {
   "cell_type": "code",
   "execution_count": 2,
   "id": "ae655658",
   "metadata": {
    "execution": {
     "iopub.execute_input": "2021-07-07T11:17:06.013413Z",
     "iopub.status.busy": "2021-07-07T11:17:05.975993Z",
     "iopub.status.idle": "2021-07-07T11:17:06.073568Z",
     "shell.execute_reply": "2021-07-07T11:17:06.071762Z"
    },
    "papermill": {
     "duration": 0.140191,
     "end_time": "2021-07-07T11:17:06.073707",
     "exception": false,
     "start_time": "2021-07-07T11:17:05.933516",
     "status": "completed"
    },
    "tags": []
   },
   "outputs": [
    {
     "data": {
      "text/html": [
       "<style>\n",
       ".list-inline {list-style: none; margin:0; padding: 0}\n",
       ".list-inline>li {display: inline-block}\n",
       ".list-inline>li:not(:last-child)::after {content: \"\\00b7\"; padding: 0 .5ex}\n",
       "</style>\n",
       "<ol class=list-inline><li>25938</li><li>23</li></ol>\n"
      ],
      "text/latex": [
       "\\begin{enumerate*}\n",
       "\\item 25938\n",
       "\\item 23\n",
       "\\end{enumerate*}\n"
      ],
      "text/markdown": [
       "1. 25938\n",
       "2. 23\n",
       "\n",
       "\n"
      ],
      "text/plain": [
       "[1] 25938    23"
      ]
     },
     "metadata": {},
     "output_type": "display_data"
    },
    {
     "data": {
      "text/html": [
       "<style>\n",
       ".list-inline {list-style: none; margin:0; padding: 0}\n",
       ".list-inline>li {display: inline-block}\n",
       ".list-inline>li:not(:last-child)::after {content: \"\\00b7\"; padding: 0 .5ex}\n",
       "</style>\n",
       "<ol class=list-inline><li>2882</li><li>23</li></ol>\n"
      ],
      "text/latex": [
       "\\begin{enumerate*}\n",
       "\\item 2882\n",
       "\\item 23\n",
       "\\end{enumerate*}\n"
      ],
      "text/markdown": [
       "1. 2882\n",
       "2. 23\n",
       "\n",
       "\n"
      ],
      "text/plain": [
       "[1] 2882   23"
      ]
     },
     "metadata": {},
     "output_type": "display_data"
    }
   ],
   "source": [
    "split <- sample.split(M1$TAXI_OUT,.90)\n",
    "train <- subset(M1,split==TRUE)\n",
    "test <- subset(M1,split==FALSE)\n",
    "dim(train)\n",
    "dim(test)\n"
   ]
  },
  {
   "cell_type": "markdown",
   "id": "642d9603",
   "metadata": {
    "papermill": {
     "duration": 0.036346,
     "end_time": "2021-07-07T11:17:06.148882",
     "exception": false,
     "start_time": "2021-07-07T11:17:06.112536",
     "status": "completed"
    },
    "tags": []
   },
   "source": [
    "# Label encoding\n"
   ]
  },
  {
   "cell_type": "code",
   "execution_count": 3,
   "id": "e65da62f",
   "metadata": {
    "execution": {
     "iopub.execute_input": "2021-07-07T11:17:06.229558Z",
     "iopub.status.busy": "2021-07-07T11:17:06.227176Z",
     "iopub.status.idle": "2021-07-07T11:17:17.034294Z",
     "shell.execute_reply": "2021-07-07T11:17:17.035111Z"
    },
    "papermill": {
     "duration": 10.84974,
     "end_time": "2021-07-07T11:17:17.035414",
     "exception": false,
     "start_time": "2021-07-07T11:17:06.185674",
     "status": "completed"
    },
    "tags": []
   },
   "outputs": [
    {
     "name": "stderr",
     "output_type": "stream",
     "text": [
      "The data contains NA values. Imputing NA with 'NA' \n",
      "\n",
      "The data contains NA values. Imputing NA with 'NA' \n",
      "\n"
     ]
    },
    {
     "data": {
      "image/png": "[encoded data removed]"
     },
     "metadata": {
      "image/png": {
       "height": 420,
       "width": 420
      }
     },
     "output_type": "display_data"
    },
    {
     "data": {
      "text/html": [
       "<style>\n",
       ".list-inline {list-style: none; margin:0; padding: 0}\n",
       ".list-inline>li {display: inline-block}\n",
       ".list-inline>li:not(:last-child)::after {content: \"\\00b7\"; padding: 0 .5ex}\n",
       "</style>\n",
       "<ol class=list-inline><li>25846</li><li>23</li></ol>\n"
      ],
      "text/latex": [
       "\\begin{enumerate*}\n",
       "\\item 25846\n",
       "\\item 23\n",
       "\\end{enumerate*}\n"
      ],
      "text/markdown": [
       "1. 25846\n",
       "2. 23\n",
       "\n",
       "\n"
      ],
      "text/plain": [
       "[1] 25846    23"
      ]
     },
     "metadata": {},
     "output_type": "display_data"
    },
    {
     "data": {
      "image/png": "[encoded data removed]"
     },
     "metadata": {
      "image/png": {
       "height": 420,
       "width": 420
      }
     },
     "output_type": "display_data"
    },
    {
     "data": {
      "image/png": "[encoded data removed]"
     },
     "metadata": {
      "image/png": {
       "height": 420,
       "width": 420
      }
     },
     "output_type": "display_data"
    },
    {
     "data": {
      "image/png": "[encoded data removed]"
     },
     "metadata": {
      "image/png": {
       "height": 420,
       "width": 420
      }
     },
     "output_type": "display_data"
    }
   ],
   "source": [
    "\n",
    "na_cols <- colSums(is.na(train)) / nrow(train)\n",
    "na_cols <- names(na_cols[which(na_cols > 0.9)])\n",
    "\n",
    "cat_cols <- names(train)[sapply(train, is.character)]\n",
    "\n",
    "for(c in cat_cols){\n",
    "  lbl <- LabelEncoder$new()\n",
    "  lbl$fit(c(train[[c]], test[[c]]))\n",
    "  train[[c]] <- lbl$transform(train[[c]])\n",
    "  test[[c]] <- lbl$transform(test[[c]])\n",
    "}\n",
    "\n",
    "# fill missing value with  0\n",
    "train[is.na(train)] <- 0\n",
    "test[is.na(test)] <- 0\n",
    "\n",
    "\n",
    "#boxplot\n",
    "boxplot(train)\n",
    "boxplot(train$DISTANCE)\n",
    "#outliers\n",
    "Q <- quantile(train$DISTANCE,probs = c(.25,.75),na.rm = TRUE)\n",
    "iqr <- IQR(train$DISTANCE)\n",
    "up <-  Q[2]+1.5*iqr # Upper Range  \n",
    "low<- Q[1]-1.5*iqr # Lower Range﻿\n",
    "eliminated<- subset(train, train$DISTANCE > (Q[1] - 1.5*iqr) & train$DISTANCE < (Q[2]+1.5*iqr))\n",
    "dim(eliminated)\n",
    "#Comparing with and without outliers\n",
    "X1 <- lm(train$TAXI_OUT~.,data = train)\n",
    "par(mfrow=c(2,2)) # init 4 charts in 1 panel\n",
    "plot(X1)\n",
    "X2 <- lm(eliminated$TAXI_OUT~.,eliminated)\n",
    "par(mfrow=c(2,2)) # init 4 charts in 1 panel\n",
    "plot(X2)\n",
    "\n",
    "#As we can see that there is very less difference between\n",
    "#after and before removing the outliers and its distance so we keep it\n"
   ]
  },
  {
   "cell_type": "markdown",
   "id": "c632c353",
   "metadata": {
    "papermill": {
     "duration": 0.047729,
     "end_time": "2021-07-07T11:17:17.132171",
     "exception": false,
     "start_time": "2021-07-07T11:17:17.084442",
     "status": "completed"
    },
    "tags": []
   },
   "source": []
  },
  {
   "cell_type": "markdown",
   "id": "ced3000c",
   "metadata": {
    "papermill": {
     "duration": 0.047626,
     "end_time": "2021-07-07T11:17:17.230337",
     "exception": false,
     "start_time": "2021-07-07T11:17:17.182711",
     "status": "completed"
    },
    "tags": []
   },
   "source": [
    "* As we can see that there is very less difference between\n",
    "* after and before removing the outliers and its distance so we keep it"
   ]
  },
  {
   "cell_type": "markdown",
   "id": "a04c314d",
   "metadata": {
    "papermill": {
     "duration": 0.047592,
     "end_time": "2021-07-07T11:17:17.324863",
     "exception": false,
     "start_time": "2021-07-07T11:17:17.277271",
     "status": "completed"
    },
    "tags": []
   },
   "source": []
  },
  {
   "cell_type": "markdown",
   "id": "f1c12988",
   "metadata": {
    "papermill": {
     "duration": 0.047953,
     "end_time": "2021-07-07T11:17:17.419243",
     "exception": false,
     "start_time": "2021-07-07T11:17:17.371290",
     "status": "completed"
    },
    "tags": []
   },
   "source": [
    "# Linear Regression with Label encoding\n",
    "\n"
   ]
  },
  {
   "cell_type": "code",
   "execution_count": 4,
   "id": "9eec58a1",
   "metadata": {
    "execution": {
     "iopub.execute_input": "2021-07-07T11:17:17.520090Z",
     "iopub.status.busy": "2021-07-07T11:17:17.517952Z",
     "iopub.status.idle": "2021-07-07T11:17:17.715257Z",
     "shell.execute_reply": "2021-07-07T11:17:17.712634Z"
    },
    "papermill": {
     "duration": 0.249857,
     "end_time": "2021-07-07T11:17:17.715504",
     "exception": false,
     "start_time": "2021-07-07T11:17:17.465647",
     "status": "completed"
    },
    "tags": []
   },
   "outputs": [
    {
     "data": {
      "text/html": [
       "6.50013615739173"
      ],
      "text/latex": [
       "6.50013615739173"
      ],
      "text/markdown": [
       "6.50013615739173"
      ],
      "text/plain": [
       "[1] 6.500136"
      ]
     },
     "metadata": {},
     "output_type": "display_data"
    }
   ],
   "source": [
    "#1linear\n",
    "lf <- LMTrainer$new(family=\"gaussian\")\n",
    "lf$fit(X = train, y = \"TAXI_OUT\")\n",
    "predictions <- lf$predict(df = test)\n",
    "r11 <- rmse(actual = test$TAXI_OUT, predicted = predictions)\n",
    "r11\n",
    "\n"
   ]
  },
  {
   "cell_type": "markdown",
   "id": "2a3cf462",
   "metadata": {
    "papermill": {
     "duration": 0.050913,
     "end_time": "2021-07-07T11:17:17.858992",
     "exception": false,
     "start_time": "2021-07-07T11:17:17.808079",
     "status": "completed"
    },
    "tags": []
   },
   "source": []
  },
  {
   "cell_type": "markdown",
   "id": "a1e5fa33",
   "metadata": {
    "papermill": {
     "duration": 0.047795,
     "end_time": "2021-07-07T11:17:17.954947",
     "exception": false,
     "start_time": "2021-07-07T11:17:17.907152",
     "status": "completed"
    },
    "tags": []
   },
   "source": [
    "# Lasso Rigression\n"
   ]
  },
  {
   "cell_type": "code",
   "execution_count": 5,
   "id": "e08eed6d",
   "metadata": {
    "execution": {
     "iopub.execute_input": "2021-07-07T11:17:18.055483Z",
     "iopub.status.busy": "2021-07-07T11:17:18.053142Z",
     "iopub.status.idle": "2021-07-07T11:17:18.403980Z",
     "shell.execute_reply": "2021-07-07T11:17:18.402219Z"
    },
    "papermill": {
     "duration": 0.402663,
     "end_time": "2021-07-07T11:17:18.404128",
     "exception": false,
     "start_time": "2021-07-07T11:17:18.001465",
     "status": "completed"
    },
    "tags": []
   },
   "outputs": [
    {
     "data": {
      "text/html": [
       "6.49983702539747"
      ],
      "text/latex": [
       "6.49983702539747"
      ],
      "text/markdown": [
       "6.49983702539747"
      ],
      "text/plain": [
       "[1] 6.499837"
      ]
     },
     "metadata": {},
     "output_type": "display_data"
    }
   ],
   "source": [
    "#2Lasso regression\n",
    "lf <- LMTrainer$new(family = \"gaussian\", alpha = 1, lambda = 1000)\n",
    "lf$fit(X = train, y = \"TAXI_OUT\")\n",
    "predictions <- lf$predict(df = test)\n",
    "r12 <- rmse(actual = test$TAXI_OUT, predicted = predictions)\n",
    "r12"
   ]
  },
  {
   "cell_type": "markdown",
   "id": "efa2402f",
   "metadata": {
    "papermill": {
     "duration": 0.04824,
     "end_time": "2021-07-07T11:17:18.500949",
     "exception": false,
     "start_time": "2021-07-07T11:17:18.452709",
     "status": "completed"
    },
    "tags": []
   },
   "source": [
    "# Ridge Regresson\n"
   ]
  },
  {
   "cell_type": "code",
   "execution_count": 6,
   "id": "6fa9056b",
   "metadata": {
    "execution": {
     "iopub.execute_input": "2021-07-07T11:17:18.603228Z",
     "iopub.status.busy": "2021-07-07T11:17:18.600989Z",
     "iopub.status.idle": "2021-07-07T11:17:18.665593Z",
     "shell.execute_reply": "2021-07-07T11:17:18.663691Z"
    },
    "papermill": {
     "duration": 0.117342,
     "end_time": "2021-07-07T11:17:18.665739",
     "exception": false,
     "start_time": "2021-07-07T11:17:18.548397",
     "status": "completed"
    },
    "tags": []
   },
   "outputs": [
    {
     "data": {
      "text/html": [
       "6.51826362932161"
      ],
      "text/latex": [
       "6.51826362932161"
      ],
      "text/markdown": [
       "6.51826362932161"
      ],
      "text/plain": [
       "[1] 6.518264"
      ]
     },
     "metadata": {},
     "output_type": "display_data"
    }
   ],
   "source": [
    "#3ridge regression\n",
    "lf <- LMTrainer$new(family = \"gaussian\", alpha=0)\n",
    "lf$fit(X = train, y = \"TAXI_OUT\")\n",
    "predictions <- lf$predict(df = test)\n",
    "r13 <- rmse(actual = test$TAXI_OUT, predicted = predictions)\n",
    "r13"
   ]
  },
  {
   "cell_type": "markdown",
   "id": "c9ab9bcc",
   "metadata": {
    "papermill": {
     "duration": 0.050903,
     "end_time": "2021-07-07T11:17:18.767180",
     "exception": false,
     "start_time": "2021-07-07T11:17:18.716277",
     "status": "completed"
    },
    "tags": []
   },
   "source": [
    "# KNN\n"
   ]
  },
  {
   "cell_type": "code",
   "execution_count": 7,
   "id": "c3b97b70",
   "metadata": {
    "execution": {
     "iopub.execute_input": "2021-07-07T11:17:18.872728Z",
     "iopub.status.busy": "2021-07-07T11:17:18.870425Z",
     "iopub.status.idle": "2021-07-07T11:17:18.976565Z",
     "shell.execute_reply": "2021-07-07T11:17:18.974702Z"
    },
    "papermill": {
     "duration": 0.159495,
     "end_time": "2021-07-07T11:17:18.976698",
     "exception": false,
     "start_time": "2021-07-07T11:17:18.817203",
     "status": "completed"
    },
    "tags": []
   },
   "outputs": [
    {
     "data": {
      "text/html": [
       "7.907981588033"
      ],
      "text/latex": [
       "7.907981588033"
      ],
      "text/markdown": [
       "7.907981588033"
      ],
      "text/plain": [
       "[1] 7.907982"
      ]
     },
     "metadata": {},
     "output_type": "display_data"
    }
   ],
   "source": [
    "#4KNN\n",
    "knn <- KNNTrainer$new(k = 2,prob = T,type = 'reg')\n",
    "knn$fit(train = train, test = test, y = \"TAXI_OUT\")\n",
    "probs <- knn$predict(type = 'prob')\n",
    "labels <- knn$predict(type='raw')\n",
    "\n",
    "r14 <- rmse(actual = test$TAXI_OUT, predicted=labels)\n",
    "r14"
   ]
  },
  {
   "cell_type": "markdown",
   "id": "8c5675b9",
   "metadata": {
    "papermill": {
     "duration": 0.055008,
     "end_time": "2021-07-07T11:17:19.086288",
     "exception": false,
     "start_time": "2021-07-07T11:17:19.031280",
     "status": "completed"
    },
    "tags": []
   },
   "source": []
  },
  {
   "cell_type": "markdown",
   "id": "6a3becb1",
   "metadata": {
    "papermill": {
     "duration": 0.052725,
     "end_time": "2021-07-07T11:17:19.190489",
     "exception": false,
     "start_time": "2021-07-07T11:17:19.137764",
     "status": "completed"
    },
    "tags": []
   },
   "source": [
    "# SVR"
   ]
  },
  {
   "cell_type": "code",
   "execution_count": 8,
   "id": "783cbb84",
   "metadata": {
    "execution": {
     "iopub.execute_input": "2021-07-07T11:17:19.301660Z",
     "iopub.status.busy": "2021-07-07T11:17:19.299259Z",
     "iopub.status.idle": "2021-07-07T11:19:49.072467Z",
     "shell.execute_reply": "2021-07-07T11:19:49.069012Z"
    },
    "papermill": {
     "duration": 149.829868,
     "end_time": "2021-07-07T11:19:49.072776",
     "exception": false,
     "start_time": "2021-07-07T11:17:19.242908",
     "status": "completed"
    },
    "tags": []
   },
   "outputs": [
    {
     "name": "stdout",
     "output_type": "stream",
     "text": [
      "\n",
      "Call:\n",
      "svm(formula = train$TAXI_OUT ~ ., data = train)\n",
      "\n",
      "\n",
      "Parameters:\n",
      "   SVM-Type:  eps-regression \n",
      " SVM-Kernel:  radial \n",
      "       cost:  1 \n",
      "      gamma:  0.04545455 \n",
      "    epsilon:  0.1 \n",
      "\n",
      "\n",
      "Number of Support Vectors:  23471\n",
      "\n"
     ]
    },
    {
     "data": {
      "text/html": [
       "6.11358804504869"
      ],
      "text/latex": [
       "6.11358804504869"
      ],
      "text/markdown": [
       "6.11358804504869"
      ],
      "text/plain": [
       "[1] 6.113588"
      ]
     },
     "metadata": {},
     "output_type": "display_data"
    }
   ],
   "source": [
    "#5SVR\n",
    "svm <- svm(train$TAXI_OUT~.,train)\n",
    "print(svm)\n",
    "pred <- predict(svm,test)\n",
    "r15 <- rmse(actual = test$TAXI_OUT, predicted = pred)\n",
    "r15"
   ]
  },
  {
   "cell_type": "markdown",
   "id": "fe13a49a",
   "metadata": {
    "papermill": {
     "duration": 0.051109,
     "end_time": "2021-07-07T11:19:49.193746",
     "exception": false,
     "start_time": "2021-07-07T11:19:49.142637",
     "status": "completed"
    },
    "tags": []
   },
   "source": [
    "# Random forest"
   ]
  },
  {
   "cell_type": "code",
   "execution_count": 9,
   "id": "631080a1",
   "metadata": {
    "execution": {
     "iopub.execute_input": "2021-07-07T11:19:49.303641Z",
     "iopub.status.busy": "2021-07-07T11:19:49.301096Z",
     "iopub.status.idle": "2021-07-07T11:20:22.180917Z",
     "shell.execute_reply": "2021-07-07T11:20:22.180350Z"
    },
    "papermill": {
     "duration": 32.935557,
     "end_time": "2021-07-07T11:20:22.181074",
     "exception": false,
     "start_time": "2021-07-07T11:19:49.245517",
     "status": "completed"
    },
    "tags": []
   },
   "outputs": [
    {
     "data": {
      "text/html": [
       "<table class=\"dataframe\">\n",
       "<caption>A data.frame: 22 × 1</caption>\n",
       "<thead>\n",
       "\t<tr><th></th><th scope=col>tmp.order.tmp..decreasing...TRUE..</th></tr>\n",
       "\t<tr><th></th><th scope=col>&lt;dbl&gt;</th></tr>\n",
       "</thead>\n",
       "<tbody>\n",
       "\t<tr><th scope=row>DEP_TIME_M</th><td>96071.44</td></tr>\n",
       "\t<tr><th scope=row>TAIL_NUM</th><td>77761.18</td></tr>\n",
       "\t<tr><th scope=row>CRS_ARR_M</th><td>75119.46</td></tr>\n",
       "\t<tr><th scope=row>sch_dep</th><td>73557.71</td></tr>\n",
       "\t<tr><th scope=row>CRS_ELAPSED_TIME</th><td>69977.88</td></tr>\n",
       "\t<tr><th scope=row>DEP_DELAY</th><td>69498.38</td></tr>\n",
       "\t<tr><th scope=row>CRS_DEP_M</th><td>69476.58</td></tr>\n",
       "\t<tr><th scope=row>Pressure</th><td>63728.30</td></tr>\n",
       "\t<tr><th scope=row>DEST</th><td>55432.87</td></tr>\n",
       "\t<tr><th scope=row>Temperature</th><td>54122.33</td></tr>\n",
       "\t<tr><th scope=row>Wind Speed</th><td>53730.75</td></tr>\n",
       "\t<tr><th scope=row>Humidity</th><td>53158.08</td></tr>\n",
       "\t<tr><th scope=row>Dew Point</th><td>52260.31</td></tr>\n",
       "\t<tr><th scope=row>DISTANCE</th><td>51136.35</td></tr>\n",
       "\t<tr><th scope=row>sch_arr</th><td>51103.38</td></tr>\n",
       "\t<tr><th scope=row>DAY_OF_MONTH</th><td>50296.37</td></tr>\n",
       "\t<tr><th scope=row>OP_UNIQUE_CARRIER</th><td>43136.55</td></tr>\n",
       "\t<tr><th scope=row>Condition</th><td>43005.60</td></tr>\n",
       "\t<tr><th scope=row>Wind</th><td>40289.92</td></tr>\n",
       "\t<tr><th scope=row>DAY_OF_WEEK</th><td>31524.54</td></tr>\n",
       "\t<tr><th scope=row>Wind Gust</th><td>22890.71</td></tr>\n",
       "\t<tr><th scope=row>MONTH</th><td>18866.88</td></tr>\n",
       "</tbody>\n",
       "</table>\n"
      ],
      "text/latex": [
       "A data.frame: 22 × 1\n",
       "\\begin{tabular}{r|l}\n",
       "  & tmp.order.tmp..decreasing...TRUE..\\\\\n",
       "  & <dbl>\\\\\n",
       "\\hline\n",
       "\tDEP\\_TIME\\_M & 96071.44\\\\\n",
       "\tTAIL\\_NUM & 77761.18\\\\\n",
       "\tCRS\\_ARR\\_M & 75119.46\\\\\n",
       "\tsch\\_dep & 73557.71\\\\\n",
       "\tCRS\\_ELAPSED\\_TIME & 69977.88\\\\\n",
       "\tDEP\\_DELAY & 69498.38\\\\\n",
       "\tCRS\\_DEP\\_M & 69476.58\\\\\n",
       "\tPressure & 63728.30\\\\\n",
       "\tDEST & 55432.87\\\\\n",
       "\tTemperature & 54122.33\\\\\n",
       "\tWind Speed & 53730.75\\\\\n",
       "\tHumidity & 53158.08\\\\\n",
       "\tDew Point & 52260.31\\\\\n",
       "\tDISTANCE & 51136.35\\\\\n",
       "\tsch\\_arr & 51103.38\\\\\n",
       "\tDAY\\_OF\\_MONTH & 50296.37\\\\\n",
       "\tOP\\_UNIQUE\\_CARRIER & 43136.55\\\\\n",
       "\tCondition & 43005.60\\\\\n",
       "\tWind & 40289.92\\\\\n",
       "\tDAY\\_OF\\_WEEK & 31524.54\\\\\n",
       "\tWind Gust & 22890.71\\\\\n",
       "\tMONTH & 18866.88\\\\\n",
       "\\end{tabular}\n"
      ],
      "text/markdown": [
       "\n",
       "A data.frame: 22 × 1\n",
       "\n",
       "| <!--/--> | tmp.order.tmp..decreasing...TRUE.. &lt;dbl&gt; |\n",
       "|---|---|\n",
       "| DEP_TIME_M | 96071.44 |\n",
       "| TAIL_NUM | 77761.18 |\n",
       "| CRS_ARR_M | 75119.46 |\n",
       "| sch_dep | 73557.71 |\n",
       "| CRS_ELAPSED_TIME | 69977.88 |\n",
       "| DEP_DELAY | 69498.38 |\n",
       "| CRS_DEP_M | 69476.58 |\n",
       "| Pressure | 63728.30 |\n",
       "| DEST | 55432.87 |\n",
       "| Temperature | 54122.33 |\n",
       "| Wind Speed | 53730.75 |\n",
       "| Humidity | 53158.08 |\n",
       "| Dew Point | 52260.31 |\n",
       "| DISTANCE | 51136.35 |\n",
       "| sch_arr | 51103.38 |\n",
       "| DAY_OF_MONTH | 50296.37 |\n",
       "| OP_UNIQUE_CARRIER | 43136.55 |\n",
       "| Condition | 43005.60 |\n",
       "| Wind | 40289.92 |\n",
       "| DAY_OF_WEEK | 31524.54 |\n",
       "| Wind Gust | 22890.71 |\n",
       "| MONTH | 18866.88 |\n",
       "\n"
      ],
      "text/plain": [
       "                  tmp.order.tmp..decreasing...TRUE..\n",
       "DEP_TIME_M        96071.44                          \n",
       "TAIL_NUM          77761.18                          \n",
       "CRS_ARR_M         75119.46                          \n",
       "sch_dep           73557.71                          \n",
       "CRS_ELAPSED_TIME  69977.88                          \n",
       "DEP_DELAY         69498.38                          \n",
       "CRS_DEP_M         69476.58                          \n",
       "Pressure          63728.30                          \n",
       "DEST              55432.87                          \n",
       "Temperature       54122.33                          \n",
       "Wind Speed        53730.75                          \n",
       "Humidity          53158.08                          \n",
       "Dew Point         52260.31                          \n",
       "DISTANCE          51136.35                          \n",
       "sch_arr           51103.38                          \n",
       "DAY_OF_MONTH      50296.37                          \n",
       "OP_UNIQUE_CARRIER 43136.55                          \n",
       "Condition         43005.60                          \n",
       "Wind              40289.92                          \n",
       "DAY_OF_WEEK       31524.54                          \n",
       "Wind Gust         22890.71                          \n",
       "MONTH             18866.88                          "
      ]
     },
     "metadata": {},
     "output_type": "display_data"
    },
    {
     "data": {
      "text/html": [
       "5.60164645182202"
      ],
      "text/latex": [
       "5.60164645182202"
      ],
      "text/markdown": [
       "5.60164645182202"
      ],
      "text/plain": [
       "[1] 5.601646"
      ]
     },
     "metadata": {},
     "output_type": "display_data"
    }
   ],
   "source": [
    "#6random forest\n",
    "rf <- RFTrainer$new(n_estimators = 500,classification = 0)\n",
    "rf$fit(X = train, y = \"TAXI_OUT\")\n",
    "pred <- rf$predict(df = test)\n",
    "rf$get_importance()\n",
    "r16 <- rmse(actual = test$TAXI_OUT, predicted = pred)\n",
    "r16"
   ]
  },
  {
   "cell_type": "markdown",
   "id": "8c863312",
   "metadata": {
    "papermill": {
     "duration": 0.053252,
     "end_time": "2021-07-07T11:20:22.286774",
     "exception": false,
     "start_time": "2021-07-07T11:20:22.233522",
     "status": "completed"
    },
    "tags": []
   },
   "source": [
    "# Naive Bayes"
   ]
  },
  {
   "cell_type": "code",
   "execution_count": 10,
   "id": "13ffc1a1",
   "metadata": {
    "execution": {
     "iopub.execute_input": "2021-07-07T11:20:22.399220Z",
     "iopub.status.busy": "2021-07-07T11:20:22.396936Z",
     "iopub.status.idle": "2021-07-07T11:20:25.937334Z",
     "shell.execute_reply": "2021-07-07T11:20:25.935294Z"
    },
    "papermill": {
     "duration": 3.597184,
     "end_time": "2021-07-07T11:20:25.937584",
     "exception": false,
     "start_time": "2021-07-07T11:20:22.340400",
     "status": "completed"
    },
    "tags": []
   },
   "outputs": [
    {
     "data": {
      "text/html": [
       "11.0555188425134"
      ],
      "text/latex": [
       "11.0555188425134"
      ],
      "text/markdown": [
       "11.0555188425134"
      ],
      "text/plain": [
       "[1] 11.05552"
      ]
     },
     "metadata": {},
     "output_type": "display_data"
    }
   ],
   "source": [
    "#7 Naive bayes\n",
    "model <- naiveBayes(train$TAXI_OUT~.,train)\n",
    "pred3 <-as.numeric( predict(model,test))\n",
    "r17 <- rmse(test$TAXI_OUT,pred3)\n",
    "r17"
   ]
  },
  {
   "cell_type": "markdown",
   "id": "2a224e82",
   "metadata": {
    "papermill": {
     "duration": 0.053283,
     "end_time": "2021-07-07T11:20:26.043522",
     "exception": false,
     "start_time": "2021-07-07T11:20:25.990239",
     "status": "completed"
    },
    "tags": []
   },
   "source": [
    "# Light Bgm"
   ]
  },
  {
   "cell_type": "code",
   "execution_count": 11,
   "id": "d8e4240f",
   "metadata": {
    "execution": {
     "iopub.execute_input": "2021-07-07T11:20:26.155340Z",
     "iopub.status.busy": "2021-07-07T11:20:26.153169Z",
     "iopub.status.idle": "2021-07-07T11:20:36.617168Z",
     "shell.execute_reply": "2021-07-07T11:20:36.614928Z"
    },
    "papermill": {
     "duration": 10.520869,
     "end_time": "2021-07-07T11:20:36.617440",
     "exception": false,
     "start_time": "2021-07-07T11:20:26.096571",
     "status": "completed"
    },
    "tags": []
   },
   "outputs": [
    {
     "name": "stderr",
     "output_type": "stream",
     "text": [
      "converting the data into xgboost format..\n",
      "\n",
      "starting with training...\n",
      "\n"
     ]
    },
    {
     "name": "stdout",
     "output_type": "stream",
     "text": [
      "[11:20:26] WARNING: amalgamation/../src/objective/regression_obj.cu:171: reg:linear is now deprecated in favor of reg:squarederror.\n",
      "[11:20:26] WARNING: amalgamation/../src/learner.cc:573: \n",
      "Parameters: { \"nrounds\" } might not be used.\n",
      "\n",
      "  This may not be accurate due to some parameters are only used in language bindings but\n",
      "  passed down to XGBoost core.  Or some parameters are not used but slip through this\n",
      "  verification. Please open an issue if you find above cases.\n",
      "\n",
      "\n",
      "[1]\ttrain-rmse:19.536415\tval-rmse:19.540951 \n",
      "Multiple eval metrics are present. Will use val_rmse for early stopping.\n",
      "Will train until val_rmse hasn't improved in 50 rounds.\n",
      "\n",
      "[51]\ttrain-rmse:5.509464\tval-rmse:5.825617 \n",
      "[101]\ttrain-rmse:5.163637\tval-rmse:5.690306 \n",
      "[151]\ttrain-rmse:4.900090\tval-rmse:5.622535 \n",
      "[201]\ttrain-rmse:4.691993\tval-rmse:5.580992 \n",
      "[251]\ttrain-rmse:4.511046\tval-rmse:5.572427 \n",
      "[301]\ttrain-rmse:4.333147\tval-rmse:5.569262 \n",
      "Stopping. Best iteration:\n",
      "[268]\ttrain-rmse:4.447852\tval-rmse:5.565891\n",
      "\n"
     ]
    },
    {
     "data": {
      "text/html": [
       "5.56589049442055"
      ],
      "text/latex": [
       "5.56589049442055"
      ],
      "text/markdown": [
       "5.56589049442055"
      ],
      "text/plain": [
       "[1] 5.56589"
      ]
     },
     "metadata": {},
     "output_type": "display_data"
    }
   ],
   "source": [
    "gbm <- XGBTrainer$new(objective = \"reg:linear\"\n",
    "                      , n_estimators = 500\n",
    "                      , eval_metric = \"rmse\"\n",
    "                      , maximize = F\n",
    "                      , learning_rate = 0.1\n",
    "                      ,max_depth = 6)\n",
    "gbm$fit(X = train, y = \"TAXI_OUT\", valid = test)\n",
    "predx <- gbm$predict(test)\n",
    "r18 <- rmse(actual = test$TAXI_OUT, predicted = predx)\n",
    "r18"
   ]
  },
  {
   "cell_type": "markdown",
   "id": "e6ed3f96",
   "metadata": {
    "papermill": {
     "duration": 0.0542,
     "end_time": "2021-07-07T11:20:36.727537",
     "exception": false,
     "start_time": "2021-07-07T11:20:36.673337",
     "status": "completed"
    },
    "tags": []
   },
   "source": [
    "# One hot Encoding "
   ]
  },
  {
   "cell_type": "code",
   "execution_count": 12,
   "id": "af593607",
   "metadata": {
    "execution": {
     "iopub.execute_input": "2021-07-07T11:20:36.843774Z",
     "iopub.status.busy": "2021-07-07T11:20:36.841430Z",
     "iopub.status.idle": "2021-07-07T11:20:37.357284Z",
     "shell.execute_reply": "2021-07-07T11:20:37.355405Z"
    },
    "papermill": {
     "duration": 0.575612,
     "end_time": "2021-07-07T11:20:37.357439",
     "exception": false,
     "start_time": "2021-07-07T11:20:36.781827",
     "status": "completed"
    },
    "tags": []
   },
   "outputs": [
    {
     "name": "stderr",
     "output_type": "stream",
     "text": [
      "\n",
      "\u001b[36m──\u001b[39m \u001b[1m\u001b[1mColumn specification\u001b[1m\u001b[22m \u001b[36m────────────────────────────────────────────────────────\u001b[39m\n",
      "cols(\n",
      "  .default = col_double(),\n",
      "  OP_UNIQUE_CARRIER = \u001b[31mcol_character()\u001b[39m,\n",
      "  TAIL_NUM = \u001b[31mcol_character()\u001b[39m,\n",
      "  DEST = \u001b[31mcol_character()\u001b[39m,\n",
      "  Wind = \u001b[31mcol_character()\u001b[39m,\n",
      "  Condition = \u001b[31mcol_character()\u001b[39m\n",
      ")\n",
      "\u001b[36mℹ\u001b[39m Use \u001b[30m\u001b[47m\u001b[30m\u001b[47m`spec()`\u001b[47m\u001b[30m\u001b[49m\u001b[39m for the full column specifications.\n",
      "\n",
      "\n"
     ]
    }
   ],
   "source": [
    "M12 <- read_csv(\"../input/transformed-m1/M1_final.csv\")\n",
    "#Label encoding column with more than 1000 distinct vals\n",
    "lbl <- LabelEncoder$new()\n",
    "lbl$fit(M12$TAIL_NUM)\n",
    "M12$TAIL_NUM <- lbl$fit_transform(M12$TAIL_NUM)\n"
   ]
  },
  {
   "cell_type": "code",
   "execution_count": 13,
   "id": "21b0d69b",
   "metadata": {
    "execution": {
     "iopub.execute_input": "2021-07-07T11:20:37.478034Z",
     "iopub.status.busy": "2021-07-07T11:20:37.475663Z",
     "iopub.status.idle": "2021-07-07T11:20:39.217085Z",
     "shell.execute_reply": "2021-07-07T11:20:39.215191Z"
    },
    "papermill": {
     "duration": 1.801804,
     "end_time": "2021-07-07T11:20:39.217337",
     "exception": false,
     "start_time": "2021-07-07T11:20:37.415533",
     "status": "completed"
    },
    "tags": []
   },
   "outputs": [
    {
     "data": {
      "text/html": [
       "<style>\n",
       ".list-inline {list-style: none; margin:0; padding: 0}\n",
       ".list-inline>li {display: inline-block}\n",
       ".list-inline>li:not(:last-child)::after {content: \"\\00b7\"; padding: 0 .5ex}\n",
       "</style>\n",
       "<ol class=list-inline><li>25938</li><li>132</li></ol>\n"
      ],
      "text/latex": [
       "\\begin{enumerate*}\n",
       "\\item 25938\n",
       "\\item 132\n",
       "\\end{enumerate*}\n"
      ],
      "text/markdown": [
       "1. 25938\n",
       "2. 132\n",
       "\n",
       "\n"
      ],
      "text/plain": [
       "[1] 25938   132"
      ]
     },
     "metadata": {},
     "output_type": "display_data"
    },
    {
     "data": {
      "text/html": [
       "<style>\n",
       ".list-inline {list-style: none; margin:0; padding: 0}\n",
       ".list-inline>li {display: inline-block}\n",
       ".list-inline>li:not(:last-child)::after {content: \"\\00b7\"; padding: 0 .5ex}\n",
       "</style>\n",
       "<ol class=list-inline><li>2882</li><li>132</li></ol>\n"
      ],
      "text/latex": [
       "\\begin{enumerate*}\n",
       "\\item 2882\n",
       "\\item 132\n",
       "\\end{enumerate*}\n"
      ],
      "text/markdown": [
       "1. 2882\n",
       "2. 132\n",
       "\n",
       "\n"
      ],
      "text/plain": [
       "[1] 2882  132"
      ]
     },
     "metadata": {},
     "output_type": "display_data"
    },
    {
     "data": {
      "text/html": [
       "<style>\n",
       ".list-inline {list-style: none; margin:0; padding: 0}\n",
       ".list-inline>li {display: inline-block}\n",
       ".list-inline>li:not(:last-child)::after {content: \"\\00b7\"; padding: 0 .5ex}\n",
       "</style>\n",
       "<ol class=list-inline><li>'MONTH'</li><li>'DAY_OF_MONTH'</li><li>'DAY_OF_WEEK'</li><li>'OP_UNIQUE_CARRIERAA'</li><li>'OP_UNIQUE_CARRIERAS'</li><li>'OP_UNIQUE_CARRIERB6'</li><li>'OP_UNIQUE_CARRIERDL'</li><li>'OP_UNIQUE_CARRIERHA'</li><li>'OP_UNIQUE_CARRIERMQ'</li><li>'OP_UNIQUE_CARRIEROO'</li><li>'OP_UNIQUE_CARRIERYX'</li><li>'TAIL_NUM'</li><li>'DESTATL'</li><li>'DESTAUS'</li><li>'DESTBNA'</li><li>'DESTBOS'</li><li>'DESTBQN'</li><li>'DESTBTV'</li><li>'DESTBUF'</li><li>'DESTBUR'</li><li>'DESTBWI'</li><li>'DESTCHS'</li><li>'DESTCLE'</li><li>'DESTCLT'</li><li>'DESTCMH'</li><li>'DESTCVG'</li><li>'DESTDCA'</li><li>'DESTDEN'</li><li>'DESTDFW'</li><li>'DESTDTW'</li><li>'DESTEGE'</li><li>'DESTFLL'</li><li>'DESTHNL'</li><li>'DESTIAD'</li><li>'DESTIAH'</li><li>'DESTIND'</li><li>'DESTJAC'</li><li>'DESTJAX'</li><li>'DESTLAS'</li><li>'DESTLAX'</li><li>'DESTLGB'</li><li>'DESTMCO'</li><li>'DESTMIA'</li><li>'DESTMSP'</li><li>'DESTMSY'</li><li>'DESTOAK'</li><li>'DESTONT'</li><li>'DESTORD'</li><li>'DESTORF'</li><li>'DESTORH'</li><li>'DESTPBI'</li><li>'DESTPDX'</li><li>'DESTPHL'</li><li>'DESTPHX'</li><li>'DESTPIT'</li><li>'DESTPSE'</li><li>'DESTPSP'</li><li>'DESTPWM'</li><li>'DESTRDU'</li><li>'DESTRIC'</li><li>'DESTRNO'</li><li>'DESTROC'</li><li>'DESTRSW'</li><li>'DESTSAN'</li><li>'DESTSAT'</li><li>'DESTSAV'</li><li>'DESTSEA'</li><li>'DESTSFO'</li><li>'DESTSJC'</li><li>'DESTSJU'</li><li>'DESTSLC'</li><li>'DESTSMF'</li><li>'DESTSRQ'</li><li>'DESTSTT'</li><li>'DESTSYR'</li><li>'DESTTPA'</li><li>'DEP_DELAY'</li><li>'CRS_ELAPSED_TIME'</li><li>'DISTANCE'</li><li>'CRS_DEP_M'</li><li>'DEP_TIME_M'</li><li>'CRS_ARR_M'</li><li>'Temperature'</li><li>'X.Dew.Point.'</li><li>'Humidity'</li><li>'WindE'</li><li>'WindENE'</li><li>'WindESE'</li><li>'WindN'</li><li>'WindNE'</li><li>'WindNNE'</li><li>'WindNNW'</li><li>'WindNW'</li><li>'WindS'</li><li>'WindSE'</li><li>'WindSSE'</li><li>'WindSSW'</li><li>'WindSW'</li><li>'WindVAR'</li><li>'WindW'</li><li>'WindWNW'</li><li>'WindWSW'</li><li>'X.Wind.Speed.'</li><li>'X.Wind.Gust.'</li><li>'Pressure'</li><li>'ConditionCloudy...Windy'</li><li>'ConditionDrizzle.and.Fog'</li><li>'ConditionFair'</li><li>'ConditionFair...Windy'</li><li>'ConditionFog'</li><li>'ConditionFog...Windy'</li><li>'ConditionHeavy.Rain'</li><li>'ConditionHeavy.Rain...Windy'</li><li>'ConditionLight.Drizzle'</li><li>'ConditionLight.Drizzle...Windy'</li><li>'ConditionLight.Freezing.Rain'</li><li>'ConditionLight.Rain'</li><li>'ConditionLight.Rain...Windy'</li><li>'ConditionLight.Snow'</li><li>'ConditionLight.Snow...Windy'</li><li>'ConditionMostly.Cloudy'</li><li>'ConditionMostly.Cloudy...Windy'</li><li>'ConditionPartly.Cloudy'</li><li>'ConditionPartly.Cloudy...Windy'</li><li>'ConditionRain'</li><li>'ConditionRain...Windy'</li><li>'ConditionSnow'</li><li>'ConditionWintry.Mix'</li><li>'ConditionWintry.Mix...Windy'</li><li>'sch_dep'</li><li>'sch_arr'</li><li>'TAXI_OUT'</li></ol>\n"
      ],
      "text/latex": [
       "\\begin{enumerate*}\n",
       "\\item 'MONTH'\n",
       "\\item 'DAY\\_OF\\_MONTH'\n",
       "\\item 'DAY\\_OF\\_WEEK'\n",
       "\\item 'OP\\_UNIQUE\\_CARRIERAA'\n",
       "\\item 'OP\\_UNIQUE\\_CARRIERAS'\n",
       "\\item 'OP\\_UNIQUE\\_CARRIERB6'\n",
       "\\item 'OP\\_UNIQUE\\_CARRIERDL'\n",
       "\\item 'OP\\_UNIQUE\\_CARRIERHA'\n",
       "\\item 'OP\\_UNIQUE\\_CARRIERMQ'\n",
       "\\item 'OP\\_UNIQUE\\_CARRIEROO'\n",
       "\\item 'OP\\_UNIQUE\\_CARRIERYX'\n",
       "\\item 'TAIL\\_NUM'\n",
       "\\item 'DESTATL'\n",
       "\\item 'DESTAUS'\n",
       "\\item 'DESTBNA'\n",
       "\\item 'DESTBOS'\n",
       "\\item 'DESTBQN'\n",
       "\\item 'DESTBTV'\n",
       "\\item 'DESTBUF'\n",
       "\\item 'DESTBUR'\n",
       "\\item 'DESTBWI'\n",
       "\\item 'DESTCHS'\n",
       "\\item 'DESTCLE'\n",
       "\\item 'DESTCLT'\n",
       "\\item 'DESTCMH'\n",
       "\\item 'DESTCVG'\n",
       "\\item 'DESTDCA'\n",
       "\\item 'DESTDEN'\n",
       "\\item 'DESTDFW'\n",
       "\\item 'DESTDTW'\n",
       "\\item 'DESTEGE'\n",
       "\\item 'DESTFLL'\n",
       "\\item 'DESTHNL'\n",
       "\\item 'DESTIAD'\n",
       "\\item 'DESTIAH'\n",
       "\\item 'DESTIND'\n",
       "\\item 'DESTJAC'\n",
       "\\item 'DESTJAX'\n",
       "\\item 'DESTLAS'\n",
       "\\item 'DESTLAX'\n",
       "\\item 'DESTLGB'\n",
       "\\item 'DESTMCO'\n",
       "\\item 'DESTMIA'\n",
       "\\item 'DESTMSP'\n",
       "\\item 'DESTMSY'\n",
       "\\item 'DESTOAK'\n",
       "\\item 'DESTONT'\n",
       "\\item 'DESTORD'\n",
       "\\item 'DESTORF'\n",
       "\\item 'DESTORH'\n",
       "\\item 'DESTPBI'\n",
       "\\item 'DESTPDX'\n",
       "\\item 'DESTPHL'\n",
       "\\item 'DESTPHX'\n",
       "\\item 'DESTPIT'\n",
       "\\item 'DESTPSE'\n",
       "\\item 'DESTPSP'\n",
       "\\item 'DESTPWM'\n",
       "\\item 'DESTRDU'\n",
       "\\item 'DESTRIC'\n",
       "\\item 'DESTRNO'\n",
       "\\item 'DESTROC'\n",
       "\\item 'DESTRSW'\n",
       "\\item 'DESTSAN'\n",
       "\\item 'DESTSAT'\n",
       "\\item 'DESTSAV'\n",
       "\\item 'DESTSEA'\n",
       "\\item 'DESTSFO'\n",
       "\\item 'DESTSJC'\n",
       "\\item 'DESTSJU'\n",
       "\\item 'DESTSLC'\n",
       "\\item 'DESTSMF'\n",
       "\\item 'DESTSRQ'\n",
       "\\item 'DESTSTT'\n",
       "\\item 'DESTSYR'\n",
       "\\item 'DESTTPA'\n",
       "\\item 'DEP\\_DELAY'\n",
       "\\item 'CRS\\_ELAPSED\\_TIME'\n",
       "\\item 'DISTANCE'\n",
       "\\item 'CRS\\_DEP\\_M'\n",
       "\\item 'DEP\\_TIME\\_M'\n",
       "\\item 'CRS\\_ARR\\_M'\n",
       "\\item 'Temperature'\n",
       "\\item 'X.Dew.Point.'\n",
       "\\item 'Humidity'\n",
       "\\item 'WindE'\n",
       "\\item 'WindENE'\n",
       "\\item 'WindESE'\n",
       "\\item 'WindN'\n",
       "\\item 'WindNE'\n",
       "\\item 'WindNNE'\n",
       "\\item 'WindNNW'\n",
       "\\item 'WindNW'\n",
       "\\item 'WindS'\n",
       "\\item 'WindSE'\n",
       "\\item 'WindSSE'\n",
       "\\item 'WindSSW'\n",
       "\\item 'WindSW'\n",
       "\\item 'WindVAR'\n",
       "\\item 'WindW'\n",
       "\\item 'WindWNW'\n",
       "\\item 'WindWSW'\n",
       "\\item 'X.Wind.Speed.'\n",
       "\\item 'X.Wind.Gust.'\n",
       "\\item 'Pressure'\n",
       "\\item 'ConditionCloudy...Windy'\n",
       "\\item 'ConditionDrizzle.and.Fog'\n",
       "\\item 'ConditionFair'\n",
       "\\item 'ConditionFair...Windy'\n",
       "\\item 'ConditionFog'\n",
       "\\item 'ConditionFog...Windy'\n",
       "\\item 'ConditionHeavy.Rain'\n",
       "\\item 'ConditionHeavy.Rain...Windy'\n",
       "\\item 'ConditionLight.Drizzle'\n",
       "\\item 'ConditionLight.Drizzle...Windy'\n",
       "\\item 'ConditionLight.Freezing.Rain'\n",
       "\\item 'ConditionLight.Rain'\n",
       "\\item 'ConditionLight.Rain...Windy'\n",
       "\\item 'ConditionLight.Snow'\n",
       "\\item 'ConditionLight.Snow...Windy'\n",
       "\\item 'ConditionMostly.Cloudy'\n",
       "\\item 'ConditionMostly.Cloudy...Windy'\n",
       "\\item 'ConditionPartly.Cloudy'\n",
       "\\item 'ConditionPartly.Cloudy...Windy'\n",
       "\\item 'ConditionRain'\n",
       "\\item 'ConditionRain...Windy'\n",
       "\\item 'ConditionSnow'\n",
       "\\item 'ConditionWintry.Mix'\n",
       "\\item 'ConditionWintry.Mix...Windy'\n",
       "\\item 'sch\\_dep'\n",
       "\\item 'sch\\_arr'\n",
       "\\item 'TAXI\\_OUT'\n",
       "\\end{enumerate*}\n"
      ],
      "text/markdown": [
       "1. 'MONTH'\n",
       "2. 'DAY_OF_MONTH'\n",
       "3. 'DAY_OF_WEEK'\n",
       "4. 'OP_UNIQUE_CARRIERAA'\n",
       "5. 'OP_UNIQUE_CARRIERAS'\n",
       "6. 'OP_UNIQUE_CARRIERB6'\n",
       "7. 'OP_UNIQUE_CARRIERDL'\n",
       "8. 'OP_UNIQUE_CARRIERHA'\n",
       "9. 'OP_UNIQUE_CARRIERMQ'\n",
       "10. 'OP_UNIQUE_CARRIEROO'\n",
       "11. 'OP_UNIQUE_CARRIERYX'\n",
       "12. 'TAIL_NUM'\n",
       "13. 'DESTATL'\n",
       "14. 'DESTAUS'\n",
       "15. 'DESTBNA'\n",
       "16. 'DESTBOS'\n",
       "17. 'DESTBQN'\n",
       "18. 'DESTBTV'\n",
       "19. 'DESTBUF'\n",
       "20. 'DESTBUR'\n",
       "21. 'DESTBWI'\n",
       "22. 'DESTCHS'\n",
       "23. 'DESTCLE'\n",
       "24. 'DESTCLT'\n",
       "25. 'DESTCMH'\n",
       "26. 'DESTCVG'\n",
       "27. 'DESTDCA'\n",
       "28. 'DESTDEN'\n",
       "29. 'DESTDFW'\n",
       "30. 'DESTDTW'\n",
       "31. 'DESTEGE'\n",
       "32. 'DESTFLL'\n",
       "33. 'DESTHNL'\n",
       "34. 'DESTIAD'\n",
       "35. 'DESTIAH'\n",
       "36. 'DESTIND'\n",
       "37. 'DESTJAC'\n",
       "38. 'DESTJAX'\n",
       "39. 'DESTLAS'\n",
       "40. 'DESTLAX'\n",
       "41. 'DESTLGB'\n",
       "42. 'DESTMCO'\n",
       "43. 'DESTMIA'\n",
       "44. 'DESTMSP'\n",
       "45. 'DESTMSY'\n",
       "46. 'DESTOAK'\n",
       "47. 'DESTONT'\n",
       "48. 'DESTORD'\n",
       "49. 'DESTORF'\n",
       "50. 'DESTORH'\n",
       "51. 'DESTPBI'\n",
       "52. 'DESTPDX'\n",
       "53. 'DESTPHL'\n",
       "54. 'DESTPHX'\n",
       "55. 'DESTPIT'\n",
       "56. 'DESTPSE'\n",
       "57. 'DESTPSP'\n",
       "58. 'DESTPWM'\n",
       "59. 'DESTRDU'\n",
       "60. 'DESTRIC'\n",
       "61. 'DESTRNO'\n",
       "62. 'DESTROC'\n",
       "63. 'DESTRSW'\n",
       "64. 'DESTSAN'\n",
       "65. 'DESTSAT'\n",
       "66. 'DESTSAV'\n",
       "67. 'DESTSEA'\n",
       "68. 'DESTSFO'\n",
       "69. 'DESTSJC'\n",
       "70. 'DESTSJU'\n",
       "71. 'DESTSLC'\n",
       "72. 'DESTSMF'\n",
       "73. 'DESTSRQ'\n",
       "74. 'DESTSTT'\n",
       "75. 'DESTSYR'\n",
       "76. 'DESTTPA'\n",
       "77. 'DEP_DELAY'\n",
       "78. 'CRS_ELAPSED_TIME'\n",
       "79. 'DISTANCE'\n",
       "80. 'CRS_DEP_M'\n",
       "81. 'DEP_TIME_M'\n",
       "82. 'CRS_ARR_M'\n",
       "83. 'Temperature'\n",
       "84. 'X.Dew.Point.'\n",
       "85. 'Humidity'\n",
       "86. 'WindE'\n",
       "87. 'WindENE'\n",
       "88. 'WindESE'\n",
       "89. 'WindN'\n",
       "90. 'WindNE'\n",
       "91. 'WindNNE'\n",
       "92. 'WindNNW'\n",
       "93. 'WindNW'\n",
       "94. 'WindS'\n",
       "95. 'WindSE'\n",
       "96. 'WindSSE'\n",
       "97. 'WindSSW'\n",
       "98. 'WindSW'\n",
       "99. 'WindVAR'\n",
       "100. 'WindW'\n",
       "101. 'WindWNW'\n",
       "102. 'WindWSW'\n",
       "103. 'X.Wind.Speed.'\n",
       "104. 'X.Wind.Gust.'\n",
       "105. 'Pressure'\n",
       "106. 'ConditionCloudy...Windy'\n",
       "107. 'ConditionDrizzle.and.Fog'\n",
       "108. 'ConditionFair'\n",
       "109. 'ConditionFair...Windy'\n",
       "110. 'ConditionFog'\n",
       "111. 'ConditionFog...Windy'\n",
       "112. 'ConditionHeavy.Rain'\n",
       "113. 'ConditionHeavy.Rain...Windy'\n",
       "114. 'ConditionLight.Drizzle'\n",
       "115. 'ConditionLight.Drizzle...Windy'\n",
       "116. 'ConditionLight.Freezing.Rain'\n",
       "117. 'ConditionLight.Rain'\n",
       "118. 'ConditionLight.Rain...Windy'\n",
       "119. 'ConditionLight.Snow'\n",
       "120. 'ConditionLight.Snow...Windy'\n",
       "121. 'ConditionMostly.Cloudy'\n",
       "122. 'ConditionMostly.Cloudy...Windy'\n",
       "123. 'ConditionPartly.Cloudy'\n",
       "124. 'ConditionPartly.Cloudy...Windy'\n",
       "125. 'ConditionRain'\n",
       "126. 'ConditionRain...Windy'\n",
       "127. 'ConditionSnow'\n",
       "128. 'ConditionWintry.Mix'\n",
       "129. 'ConditionWintry.Mix...Windy'\n",
       "130. 'sch_dep'\n",
       "131. 'sch_arr'\n",
       "132. 'TAXI_OUT'\n",
       "\n",
       "\n"
      ],
      "text/plain": [
       "  [1] \"MONTH\"                          \"DAY_OF_MONTH\"                  \n",
       "  [3] \"DAY_OF_WEEK\"                    \"OP_UNIQUE_CARRIERAA\"           \n",
       "  [5] \"OP_UNIQUE_CARRIERAS\"            \"OP_UNIQUE_CARRIERB6\"           \n",
       "  [7] \"OP_UNIQUE_CARRIERDL\"            \"OP_UNIQUE_CARRIERHA\"           \n",
       "  [9] \"OP_UNIQUE_CARRIERMQ\"            \"OP_UNIQUE_CARRIEROO\"           \n",
       " [11] \"OP_UNIQUE_CARRIERYX\"            \"TAIL_NUM\"                      \n",
       " [13] \"DESTATL\"                        \"DESTAUS\"                       \n",
       " [15] \"DESTBNA\"                        \"DESTBOS\"                       \n",
       " [17] \"DESTBQN\"                        \"DESTBTV\"                       \n",
       " [19] \"DESTBUF\"                        \"DESTBUR\"                       \n",
       " [21] \"DESTBWI\"                        \"DESTCHS\"                       \n",
       " [23] \"DESTCLE\"                        \"DESTCLT\"                       \n",
       " [25] \"DESTCMH\"                        \"DESTCVG\"                       \n",
       " [27] \"DESTDCA\"                        \"DESTDEN\"                       \n",
       " [29] \"DESTDFW\"                        \"DESTDTW\"                       \n",
       " [31] \"DESTEGE\"                        \"DESTFLL\"                       \n",
       " [33] \"DESTHNL\"                        \"DESTIAD\"                       \n",
       " [35] \"DESTIAH\"                        \"DESTIND\"                       \n",
       " [37] \"DESTJAC\"                        \"DESTJAX\"                       \n",
       " [39] \"DESTLAS\"                        \"DESTLAX\"                       \n",
       " [41] \"DESTLGB\"                        \"DESTMCO\"                       \n",
       " [43] \"DESTMIA\"                        \"DESTMSP\"                       \n",
       " [45] \"DESTMSY\"                        \"DESTOAK\"                       \n",
       " [47] \"DESTONT\"                        \"DESTORD\"                       \n",
       " [49] \"DESTORF\"                        \"DESTORH\"                       \n",
       " [51] \"DESTPBI\"                        \"DESTPDX\"                       \n",
       " [53] \"DESTPHL\"                        \"DESTPHX\"                       \n",
       " [55] \"DESTPIT\"                        \"DESTPSE\"                       \n",
       " [57] \"DESTPSP\"                        \"DESTPWM\"                       \n",
       " [59] \"DESTRDU\"                        \"DESTRIC\"                       \n",
       " [61] \"DESTRNO\"                        \"DESTROC\"                       \n",
       " [63] \"DESTRSW\"                        \"DESTSAN\"                       \n",
       " [65] \"DESTSAT\"                        \"DESTSAV\"                       \n",
       " [67] \"DESTSEA\"                        \"DESTSFO\"                       \n",
       " [69] \"DESTSJC\"                        \"DESTSJU\"                       \n",
       " [71] \"DESTSLC\"                        \"DESTSMF\"                       \n",
       " [73] \"DESTSRQ\"                        \"DESTSTT\"                       \n",
       " [75] \"DESTSYR\"                        \"DESTTPA\"                       \n",
       " [77] \"DEP_DELAY\"                      \"CRS_ELAPSED_TIME\"              \n",
       " [79] \"DISTANCE\"                       \"CRS_DEP_M\"                     \n",
       " [81] \"DEP_TIME_M\"                     \"CRS_ARR_M\"                     \n",
       " [83] \"Temperature\"                    \"X.Dew.Point.\"                  \n",
       " [85] \"Humidity\"                       \"WindE\"                         \n",
       " [87] \"WindENE\"                        \"WindESE\"                       \n",
       " [89] \"WindN\"                          \"WindNE\"                        \n",
       " [91] \"WindNNE\"                        \"WindNNW\"                       \n",
       " [93] \"WindNW\"                         \"WindS\"                         \n",
       " [95] \"WindSE\"                         \"WindSSE\"                       \n",
       " [97] \"WindSSW\"                        \"WindSW\"                        \n",
       " [99] \"WindVAR\"                        \"WindW\"                         \n",
       "[101] \"WindWNW\"                        \"WindWSW\"                       \n",
       "[103] \"X.Wind.Speed.\"                  \"X.Wind.Gust.\"                  \n",
       "[105] \"Pressure\"                       \"ConditionCloudy...Windy\"       \n",
       "[107] \"ConditionDrizzle.and.Fog\"       \"ConditionFair\"                 \n",
       "[109] \"ConditionFair...Windy\"          \"ConditionFog\"                  \n",
       "[111] \"ConditionFog...Windy\"           \"ConditionHeavy.Rain\"           \n",
       "[113] \"ConditionHeavy.Rain...Windy\"    \"ConditionLight.Drizzle\"        \n",
       "[115] \"ConditionLight.Drizzle...Windy\" \"ConditionLight.Freezing.Rain\"  \n",
       "[117] \"ConditionLight.Rain\"            \"ConditionLight.Rain...Windy\"   \n",
       "[119] \"ConditionLight.Snow\"            \"ConditionLight.Snow...Windy\"   \n",
       "[121] \"ConditionMostly.Cloudy\"         \"ConditionMostly.Cloudy...Windy\"\n",
       "[123] \"ConditionPartly.Cloudy\"         \"ConditionPartly.Cloudy...Windy\"\n",
       "[125] \"ConditionRain\"                  \"ConditionRain...Windy\"         \n",
       "[127] \"ConditionSnow\"                  \"ConditionWintry.Mix\"           \n",
       "[129] \"ConditionWintry.Mix...Windy\"    \"sch_dep\"                       \n",
       "[131] \"sch_arr\"                        \"TAXI_OUT\"                      "
      ]
     },
     "metadata": {},
     "output_type": "display_data"
    }
   ],
   "source": [
    "#One hot encoding\n",
    "dmy <- dummyVars(\"~.\", data = M12, fullRank = T)\n",
    "\n",
    "dat<- data.frame(predict(dmy, newdata = M12))\n",
    "split <- sample.split( dat$TAXI_OUT,.90)\n",
    "train <- subset(dat,split==TRUE)\n",
    "test <- subset(dat,split==FALSE)\n",
    "dim(train)\n",
    "dim(test)\n",
    "names(train)\n",
    "# fill missing value with  0\n",
    "train[is.na(train)] <- 0\n",
    "test[is.na(test)] <- 0"
   ]
  },
  {
   "cell_type": "markdown",
   "id": "27c0ba1c",
   "metadata": {
    "papermill": {
     "duration": 0.058698,
     "end_time": "2021-07-07T11:20:39.334144",
     "exception": false,
     "start_time": "2021-07-07T11:20:39.275446",
     "status": "completed"
    },
    "tags": []
   },
   "source": [
    "# Linear regression with one hot encoding"
   ]
  },
  {
   "cell_type": "markdown",
   "id": "1a77d5b5",
   "metadata": {
    "papermill": {
     "duration": 0.057551,
     "end_time": "2021-07-07T11:20:39.450828",
     "exception": false,
     "start_time": "2021-07-07T11:20:39.393277",
     "status": "completed"
    },
    "tags": []
   },
   "source": []
  },
  {
   "cell_type": "code",
   "execution_count": 14,
   "id": "6b14f7d6",
   "metadata": {
    "execution": {
     "iopub.execute_input": "2021-07-07T11:20:39.571850Z",
     "iopub.status.busy": "2021-07-07T11:20:39.569608Z",
     "iopub.status.idle": "2021-07-07T11:20:40.571212Z",
     "shell.execute_reply": "2021-07-07T11:20:40.568274Z"
    },
    "papermill": {
     "duration": 1.064293,
     "end_time": "2021-07-07T11:20:40.571423",
     "exception": false,
     "start_time": "2021-07-07T11:20:39.507130",
     "status": "completed"
    },
    "tags": []
   },
   "outputs": [
    {
     "name": "stderr",
     "output_type": "stream",
     "text": [
      "Warning message in predict.lm(object, newdata, se.fit, scale = 1, type = if (type == :\n",
      "“prediction from a rank-deficient fit may be misleading”\n"
     ]
    },
    {
     "data": {
      "text/html": [
       "6.22473949486632"
      ],
      "text/latex": [
       "6.22473949486632"
      ],
      "text/markdown": [
       "6.22473949486632"
      ],
      "text/plain": [
       "[1] 6.224739"
      ]
     },
     "metadata": {},
     "output_type": "display_data"
    },
    {
     "data": {
      "text/plain": [
       "\n",
       "Call:\n",
       "stats::glm(formula = f, family = self$family, data = X, weights = self$weights)\n",
       "\n",
       "Deviance Residuals: \n",
       "    Min       1Q   Median       3Q      Max  \n",
       "-20.414   -4.531   -1.006    3.655   24.545  \n",
       "\n",
       "Coefficients: (1 not defined because of singularities)\n",
       "                                 Estimate Std. Error t value Pr(>|t|)    \n",
       "(Intercept)                     4.668e+01  6.358e+00   7.341 2.18e-13 ***\n",
       "MONTH                           5.269e-02  8.732e-03   6.035 1.61e-09 ***\n",
       "DAY_OF_MONTH                   -2.582e-02  5.017e-03  -5.147 2.67e-07 ***\n",
       "DAY_OF_WEEK                     9.487e-02  2.118e-02   4.480 7.51e-06 ***\n",
       "OP_UNIQUE_CARRIERAA            -9.774e-01  2.234e-01  -4.376 1.21e-05 ***\n",
       "OP_UNIQUE_CARRIERAS             3.045e+00  2.931e-01  10.389  < 2e-16 ***\n",
       "OP_UNIQUE_CARRIERB6            -1.798e+00  1.946e-01  -9.239  < 2e-16 ***\n",
       "OP_UNIQUE_CARRIERDL            -2.953e-01  2.010e-01  -1.469 0.141810    \n",
       "OP_UNIQUE_CARRIERHA            -2.895e-02  1.981e+00  -0.015 0.988338    \n",
       "OP_UNIQUE_CARRIERMQ             7.556e-01  2.650e-01   2.851 0.004357 ** \n",
       "OP_UNIQUE_CARRIEROO            -2.963e-01  4.227e-01  -0.701 0.483346    \n",
       "OP_UNIQUE_CARRIERYX             1.343e+00  3.139e-01   4.276 1.91e-05 ***\n",
       "TAIL_NUM                        2.580e-05  8.466e-05   0.305 0.760558    \n",
       "DESTATL                         4.577e+00  1.415e+00   3.236 0.001216 ** \n",
       "DESTAUS                        -8.421e-01  9.981e-01  -0.844 0.398844    \n",
       "DESTBNA                         2.549e+00  1.444e+00   1.765 0.077618 .  \n",
       "DESTBOS                         9.674e+00  1.882e+00   5.139 2.78e-07 ***\n",
       "DESTBQN                         3.258e+00  1.220e+00   2.670 0.007590 ** \n",
       "DESTBTV                         9.001e+00  1.879e+00   4.790 1.68e-06 ***\n",
       "DESTBUF                         8.769e+00  1.807e+00   4.854 1.22e-06 ***\n",
       "DESTBUR                        -5.757e+00  1.202e+00  -4.787 1.70e-06 ***\n",
       "DESTBWI                         7.483e+00  1.938e+00   3.861 0.000113 ***\n",
       "DESTCHS                         6.750e+00  1.545e+00   4.369 1.25e-05 ***\n",
       "DESTCLE                         7.712e+00  1.673e+00   4.611 4.04e-06 ***\n",
       "DESTCLT                         6.250e+00  1.571e+00   3.978 6.97e-05 ***\n",
       "DESTCMH                         5.527e+00  1.700e+00   3.251 0.001151 ** \n",
       "DESTCVG                         2.824e+00  1.601e+00   1.764 0.077764 .  \n",
       "DESTDCA                         8.790e+00  1.850e+00   4.751 2.03e-06 ***\n",
       "DESTDEN                         9.966e-01  9.928e-01   1.004 0.315466    \n",
       "DESTDFW                         4.438e-01  1.031e+00   0.430 0.666959    \n",
       "DESTDTW                         7.494e+00  1.596e+00   4.696 2.67e-06 ***\n",
       "DESTEGE                        -1.463e+00  1.351e+00  -1.083 0.278761    \n",
       "DESTFLL                         6.213e+00  1.225e+00   5.072 3.97e-07 ***\n",
       "DESTHNL                        -1.989e+01  3.429e+00  -5.800 6.71e-09 ***\n",
       "DESTIAD                         7.842e+00  1.905e+00   4.115 3.88e-05 ***\n",
       "DESTIAH                         4.407e-02  1.045e+00   0.042 0.966355    \n",
       "DESTIND                         4.695e+00  1.551e+00   3.026 0.002481 ** \n",
       "DESTJAC                        -9.989e-01  3.294e+00  -0.303 0.761724    \n",
       "DESTJAX                         5.553e+00  1.402e+00   3.959 7.53e-05 ***\n",
       "DESTLAS                        -3.742e+00  9.901e-01  -3.780 0.000157 ***\n",
       "DESTLAX                        -4.849e+00  1.053e+00  -4.605 4.14e-06 ***\n",
       "DESTLGB                        -5.523e+00  1.151e+00  -4.799 1.61e-06 ***\n",
       "DESTMCO                         4.785e+00  1.288e+00   3.715 0.000203 ***\n",
       "DESTMIA                         5.683e+00  1.232e+00   4.611 4.03e-06 ***\n",
       "DESTMSP                         5.256e+00  1.248e+00   4.211 2.56e-05 ***\n",
       "DESTMSY                         1.648e+00  1.170e+00   1.408 0.159054    \n",
       "DESTOAK                        -4.229e+00  1.359e+00  -3.113 0.001856 ** \n",
       "DESTONT                        -5.429e+00  1.247e+00  -4.354 1.34e-05 ***\n",
       "DESTORD                         6.026e+00  1.350e+00   4.465 8.05e-06 ***\n",
       "DESTORF                         9.905e+00  1.840e+00   5.384 7.35e-08 ***\n",
       "DESTORH                         1.089e+01  2.112e+00   5.157 2.53e-07 ***\n",
       "DESTPBI                         5.480e+00  1.279e+00   4.283 1.85e-05 ***\n",
       "DESTPDX                        -4.043e+00  1.133e+00  -3.568 0.000361 ***\n",
       "DESTPHL                         1.024e+01  2.151e+00   4.763 1.92e-06 ***\n",
       "DESTPHX                        -2.865e+00  9.710e-01  -2.950 0.003176 ** \n",
       "DESTPIT                         7.991e+00  1.750e+00   4.566 4.99e-06 ***\n",
       "DESTPSE                         3.068e+00  1.253e+00   2.448 0.014373 *  \n",
       "DESTPSP                        -5.077e+00  1.303e+00  -3.896 9.82e-05 ***\n",
       "DESTPWM                         1.039e+01  1.958e+00   5.306 1.13e-07 ***\n",
       "DESTRDU                         7.459e+00  1.689e+00   4.416 1.01e-05 ***\n",
       "DESTRIC                         9.264e+00  1.802e+00   5.140 2.77e-07 ***\n",
       "DESTRNO                        -3.342e+00  1.371e+00  -2.438 0.014790 *  \n",
       "DESTROC                         9.680e+00  1.845e+00   5.247 1.56e-07 ***\n",
       "DESTRSW                         3.378e+00  1.237e+00   2.731 0.006315 ** \n",
       "DESTSAN                        -4.658e+00  1.074e+00  -4.335 1.46e-05 ***\n",
       "DESTSAT                        -3.082e+00  1.083e+00  -2.846 0.004428 ** \n",
       "DESTSAV                         6.075e+00  1.512e+00   4.018 5.90e-05 ***\n",
       "DESTSEA                        -4.190e+00  1.078e+00  -3.888 0.000101 ***\n",
       "DESTSFO                        -5.311e+00  1.140e+00  -4.660 3.18e-06 ***\n",
       "DESTSJC                        -4.321e+00  1.206e+00  -3.582 0.000342 ***\n",
       "DESTSJU                         3.810e+00  1.065e+00   3.576 0.000350 ***\n",
       "DESTSLC                        -1.634e+00  9.430e-01  -1.733 0.083132 .  \n",
       "DESTSMF                        -5.860e+00  1.281e+00  -4.576 4.77e-06 ***\n",
       "DESTSRQ                         4.209e+00  1.373e+00   3.066 0.002171 ** \n",
       "DESTSTT                         6.716e+00  1.368e+00   4.908 9.28e-07 ***\n",
       "DESTSYR                         1.005e+01  1.894e+00   5.305 1.14e-07 ***\n",
       "DESTTPA                         4.063e+00  1.280e+00   3.173 0.001508 ** \n",
       "DEP_DELAY                       5.066e-03  1.065e-03   4.756 1.98e-06 ***\n",
       "CRS_ELAPSED_TIME                4.896e-02  7.135e-03   6.863 6.91e-12 ***\n",
       "DISTANCE                               NA         NA      NA       NA    \n",
       "CRS_DEP_M                       1.559e-04  4.378e-04   0.356 0.721746    \n",
       "DEP_TIME_M                      1.013e-03  4.333e-04   2.339 0.019352 *  \n",
       "CRS_ARR_M                      -4.155e-04  1.526e-04  -2.723 0.006478 ** \n",
       "Temperature                    -1.861e-01  1.032e-02 -18.027  < 2e-16 ***\n",
       "X.Dew.Point.                    8.122e-02  8.390e-03   9.680  < 2e-16 ***\n",
       "Humidity                       -6.970e-03  2.100e-03  -3.319 0.000906 ***\n",
       "WindE                          -1.034e+00  3.288e-01  -3.145 0.001660 ** \n",
       "WindENE                         1.465e-01  3.302e-01   0.444 0.657328    \n",
       "WindESE                        -2.948e-01  4.056e-01  -0.727 0.467371    \n",
       "WindN                          -1.483e+00  2.981e-01  -4.975 6.56e-07 ***\n",
       "WindNE                         -1.074e+00  3.404e-01  -3.156 0.001601 ** \n",
       "WindNNE                        -1.149e+00  3.230e-01  -3.558 0.000374 ***\n",
       "WindNNW                        -2.186e+00  3.086e-01  -7.085 1.43e-12 ***\n",
       "WindNW                         -1.728e+00  3.073e-01  -5.624 1.89e-08 ***\n",
       "WindS                          -4.621e-01  3.152e-01  -1.466 0.142643    \n",
       "WindSE                         -1.297e+00  4.429e-01  -2.928 0.003419 ** \n",
       "WindSSE                        -6.468e-01  4.504e-01  -1.436 0.150939    \n",
       "WindSSW                        -8.438e-01  3.089e-01  -2.731 0.006310 ** \n",
       "WindSW                         -1.539e+00  2.995e-01  -5.137 2.82e-07 ***\n",
       "WindVAR                        -1.872e+00  4.570e-01  -4.097 4.21e-05 ***\n",
       "WindW                          -1.519e+00  3.039e-01  -4.999 5.81e-07 ***\n",
       "WindWNW                        -8.868e-01  3.212e-01  -2.761 0.005775 ** \n",
       "WindWSW                        -2.288e+00  3.009e-01  -7.605 2.95e-14 ***\n",
       "X.Wind.Speed.                   4.246e-02  1.207e-02   3.518 0.000435 ***\n",
       "X.Wind.Gust.                    4.756e-02  5.618e-03   8.466  < 2e-16 ***\n",
       "Pressure                       -1.305e+00  1.985e-01  -6.572 5.05e-11 ***\n",
       "ConditionCloudy...Windy        -6.756e-01  4.105e-01  -1.646 0.099832 .  \n",
       "ConditionDrizzle.and.Fog        1.274e+01  2.873e+00   4.434 9.30e-06 ***\n",
       "ConditionFair                   5.215e-01  1.542e-01   3.382 0.000720 ***\n",
       "ConditionFair...Windy          -2.333e-01  3.047e-01  -0.766 0.443913    \n",
       "ConditionFog                    3.413e+00  5.962e-01   5.725 1.05e-08 ***\n",
       "ConditionFog...Windy           -6.183e+00  1.279e+00  -4.835 1.34e-06 ***\n",
       "ConditionHeavy.Rain             4.467e+00  9.309e-01   4.799 1.61e-06 ***\n",
       "ConditionHeavy.Rain...Windy    -5.964e+00  2.612e+00  -2.283 0.022409 *  \n",
       "ConditionLight.Drizzle          8.913e-01  5.061e-01   1.761 0.078225 .  \n",
       "ConditionLight.Drizzle...Windy  4.493e+00  1.616e+00   2.781 0.005424 ** \n",
       "ConditionLight.Freezing.Rain    8.443e+00  3.177e+00   2.657 0.007884 ** \n",
       "ConditionLight.Rain             5.236e-01  2.037e-01   2.570 0.010165 *  \n",
       "ConditionLight.Rain...Windy     1.652e+00  4.527e-01   3.650 0.000263 ***\n",
       "ConditionLight.Snow             9.313e+00  7.787e-01  11.960  < 2e-16 ***\n",
       "ConditionLight.Snow...Windy     5.131e+00  1.372e+00   3.741 0.000184 ***\n",
       "ConditionMostly.Cloudy          3.956e-01  1.252e-01   3.159 0.001583 ** \n",
       "ConditionMostly.Cloudy...Windy  9.404e-02  2.610e-01   0.360 0.718590    \n",
       "ConditionPartly.Cloudy          6.688e-01  1.616e-01   4.140 3.49e-05 ***\n",
       "ConditionPartly.Cloudy...Windy  8.325e-01  3.448e-01   2.414 0.015766 *  \n",
       "ConditionRain                   2.174e+00  4.012e-01   5.418 6.07e-08 ***\n",
       "ConditionRain...Windy          -1.448e-01  1.421e+00  -0.102 0.918853    \n",
       "ConditionSnow                   1.323e+01  4.491e+00   2.946 0.003225 ** \n",
       "ConditionWintry.Mix             6.845e+00  7.662e-01   8.934  < 2e-16 ***\n",
       "ConditionWintry.Mix...Windy     1.450e+01  3.184e+00   4.554 5.30e-06 ***\n",
       "sch_dep                         1.158e-01  4.713e-03  24.564  < 2e-16 ***\n",
       "sch_arr                         4.973e-02  6.216e-03   8.000 1.30e-15 ***\n",
       "---\n",
       "Signif. codes:  0 ‘***’ 0.001 ‘**’ 0.01 ‘*’ 0.05 ‘.’ 0.1 ‘ ’ 1\n",
       "\n",
       "(Dispersion parameter for gaussian family taken to be 40.07132)\n",
       "\n",
       "    Null deviance: 1217791  on 25937  degrees of freedom\n",
       "Residual deviance: 1034121  on 25807  degrees of freedom\n",
       "AIC: 169470\n",
       "\n",
       "Number of Fisher Scoring iterations: 2\n"
      ]
     },
     "metadata": {},
     "output_type": "display_data"
    }
   ],
   "source": [
    "#1 Linear\n",
    "lf <- LMTrainer$new(family=\"gaussian\")\n",
    "lf$fit(X = train, y = \"TAXI_OUT\")\n",
    "predictions <- lf$predict(df = test)\n",
    "r21 <- rmse(actual = test$TAXI_OUT, predicted = predictions)\n",
    "r21\n",
    "summary(lf$model)\n"
   ]
  },
  {
   "cell_type": "markdown",
   "id": "e4f724fd",
   "metadata": {
    "papermill": {
     "duration": 0.060363,
     "end_time": "2021-07-07T11:20:40.730671",
     "exception": false,
     "start_time": "2021-07-07T11:20:40.670308",
     "status": "completed"
    },
    "tags": []
   },
   "source": [
    "# Lasso regression"
   ]
  },
  {
   "cell_type": "code",
   "execution_count": 15,
   "id": "2966cb0c",
   "metadata": {
    "execution": {
     "iopub.execute_input": "2021-07-07T11:20:40.857865Z",
     "iopub.status.busy": "2021-07-07T11:20:40.855585Z",
     "iopub.status.idle": "2021-07-07T11:20:41.083598Z",
     "shell.execute_reply": "2021-07-07T11:20:41.081426Z"
    },
    "papermill": {
     "duration": 0.293445,
     "end_time": "2021-07-07T11:20:41.083889",
     "exception": false,
     "start_time": "2021-07-07T11:20:40.790444",
     "status": "completed"
    },
    "tags": []
   },
   "outputs": [
    {
     "data": {
      "text/html": [
       "6.39447288943458"
      ],
      "text/latex": [
       "6.39447288943458"
      ],
      "text/markdown": [
       "6.39447288943458"
      ],
      "text/plain": [
       "[1] 6.394473"
      ]
     },
     "metadata": {},
     "output_type": "display_data"
    }
   ],
   "source": [
    "#2Lasso regression\n",
    "lf <- LMTrainer$new(family = \"gaussian\", alpha = 1, lambda = 1000)\n",
    "lf$fit(X = train, y = \"TAXI_OUT\")\n",
    "predictions <- lf$predict(df = test)\n",
    "r22 <- rmse(actual = test$TAXI_OUT, predicted = predictions)\n",
    "r22"
   ]
  },
  {
   "cell_type": "markdown",
   "id": "22e8ef1a",
   "metadata": {
    "papermill": {
     "duration": 0.059422,
     "end_time": "2021-07-07T11:20:41.205096",
     "exception": false,
     "start_time": "2021-07-07T11:20:41.145674",
     "status": "completed"
    },
    "tags": []
   },
   "source": [
    "# Ridge Regression"
   ]
  },
  {
   "cell_type": "code",
   "execution_count": 16,
   "id": "a94704d5",
   "metadata": {
    "execution": {
     "iopub.execute_input": "2021-07-07T11:20:41.331475Z",
     "iopub.status.busy": "2021-07-07T11:20:41.329147Z",
     "iopub.status.idle": "2021-07-07T11:20:41.960649Z",
     "shell.execute_reply": "2021-07-07T11:20:41.958592Z"
    },
    "papermill": {
     "duration": 0.69575,
     "end_time": "2021-07-07T11:20:41.960834",
     "exception": false,
     "start_time": "2021-07-07T11:20:41.265084",
     "status": "completed"
    },
    "tags": []
   },
   "outputs": [
    {
     "data": {
      "text/html": [
       "6.52461738792919"
      ],
      "text/latex": [
       "6.52461738792919"
      ],
      "text/markdown": [
       "6.52461738792919"
      ],
      "text/plain": [
       "[1] 6.524617"
      ]
     },
     "metadata": {},
     "output_type": "display_data"
    }
   ],
   "source": [
    "#3ridge regression\n",
    "lf <- LMTrainer$new(family = \"gaussian\", alpha=0)\n",
    "lf$fit(X = train, y = \"TAXI_OUT\")\n",
    "predictions <- lf$predict(df = test)\n",
    "r23 <- rmse(actual = test$TAXI_OUT, predicted = predictions)\n",
    "r23"
   ]
  },
  {
   "cell_type": "markdown",
   "id": "f33fd047",
   "metadata": {
    "papermill": {
     "duration": 0.065775,
     "end_time": "2021-07-07T11:20:42.087518",
     "exception": false,
     "start_time": "2021-07-07T11:20:42.021743",
     "status": "completed"
    },
    "tags": []
   },
   "source": [
    "# KNN"
   ]
  },
  {
   "cell_type": "code",
   "execution_count": 17,
   "id": "dba598c4",
   "metadata": {
    "execution": {
     "iopub.execute_input": "2021-07-07T11:20:42.216051Z",
     "iopub.status.busy": "2021-07-07T11:20:42.213667Z",
     "iopub.status.idle": "2021-07-07T11:20:42.395527Z",
     "shell.execute_reply": "2021-07-07T11:20:42.393647Z"
    },
    "papermill": {
     "duration": 0.247585,
     "end_time": "2021-07-07T11:20:42.395659",
     "exception": false,
     "start_time": "2021-07-07T11:20:42.148074",
     "status": "completed"
    },
    "tags": []
   },
   "outputs": [
    {
     "data": {
      "text/html": [
       "7.76300927328438"
      ],
      "text/latex": [
       "7.76300927328438"
      ],
      "text/markdown": [
       "7.76300927328438"
      ],
      "text/plain": [
       "[1] 7.763009"
      ]
     },
     "metadata": {},
     "output_type": "display_data"
    }
   ],
   "source": [
    "knn <- KNNTrainer$new(k = 2,prob = T,type = 'reg')\n",
    "knn$fit(train = train, test = test, y = \"TAXI_OUT\")\n",
    "probs <- knn$predict(type = 'prob')\n",
    "labels <- knn$predict(type='raw')\n",
    "\n",
    "r24 <- rmse(actual = test$TAXI_OUT, predicted=labels)\n",
    "r24"
   ]
  },
  {
   "cell_type": "markdown",
   "id": "4ed55639",
   "metadata": {
    "papermill": {
     "duration": 0.061442,
     "end_time": "2021-07-07T11:20:42.518808",
     "exception": false,
     "start_time": "2021-07-07T11:20:42.457366",
     "status": "completed"
    },
    "tags": []
   },
   "source": [
    "# SVR"
   ]
  },
  {
   "cell_type": "code",
   "execution_count": 18,
   "id": "473c2310",
   "metadata": {
    "execution": {
     "iopub.execute_input": "2021-07-07T11:20:42.648242Z",
     "iopub.status.busy": "2021-07-07T11:20:42.645989Z",
     "iopub.status.idle": "2021-07-07T11:34:29.294346Z",
     "shell.execute_reply": "2021-07-07T11:34:29.295353Z"
    },
    "papermill": {
     "duration": 826.715545,
     "end_time": "2021-07-07T11:34:29.295655",
     "exception": false,
     "start_time": "2021-07-07T11:20:42.580110",
     "status": "completed"
    },
    "tags": []
   },
   "outputs": [
    {
     "data": {
      "text/html": [
       "6.16428142044482"
      ],
      "text/latex": [
       "6.16428142044482"
      ],
      "text/markdown": [
       "6.16428142044482"
      ],
      "text/plain": [
       "[1] 6.164281"
      ]
     },
     "metadata": {},
     "output_type": "display_data"
    }
   ],
   "source": [
    "#5SVR\n",
    "svm <- svm(train$TAXI_OUT~.,train)\n",
    "pred <- predict(svm,test)\n",
    "r25 <- rmse(actual = test$TAXI_OUT, predicted = pred)\n",
    "r25"
   ]
  },
  {
   "cell_type": "markdown",
   "id": "b58e6899",
   "metadata": {
    "papermill": {
     "duration": 0.065516,
     "end_time": "2021-07-07T11:34:29.438127",
     "exception": false,
     "start_time": "2021-07-07T11:34:29.372611",
     "status": "completed"
    },
    "tags": []
   },
   "source": [
    "# Random Forest"
   ]
  },
  {
   "cell_type": "code",
   "execution_count": 19,
   "id": "78415b23",
   "metadata": {
    "execution": {
     "iopub.execute_input": "2021-07-07T11:34:29.576168Z",
     "iopub.status.busy": "2021-07-07T11:34:29.573850Z",
     "iopub.status.idle": "2021-07-07T11:35:19.124116Z",
     "shell.execute_reply": "2021-07-07T11:35:19.121384Z"
    },
    "papermill": {
     "duration": 49.620975,
     "end_time": "2021-07-07T11:35:19.124372",
     "exception": false,
     "start_time": "2021-07-07T11:34:29.503397",
     "status": "completed"
    },
    "tags": []
   },
   "outputs": [
    {
     "name": "stdout",
     "output_type": "stream",
     "text": [
      "Growing trees.. Progress: 66%. Estimated remaining time: 15 seconds.\n"
     ]
    },
    {
     "data": {
      "text/html": [
       "<table class=\"dataframe\">\n",
       "<caption>A data.frame: 131 × 1</caption>\n",
       "<thead>\n",
       "\t<tr><th></th><th scope=col>tmp.order.tmp..decreasing...TRUE..</th></tr>\n",
       "\t<tr><th></th><th scope=col>&lt;dbl&gt;</th></tr>\n",
       "</thead>\n",
       "<tbody>\n",
       "\t<tr><th scope=row>DEP_TIME_M</th><td>72060.848</td></tr>\n",
       "\t<tr><th scope=row>sch_dep</th><td>59748.078</td></tr>\n",
       "\t<tr><th scope=row>CRS_ARR_M</th><td>59041.246</td></tr>\n",
       "\t<tr><th scope=row>CRS_DEP_M</th><td>58012.286</td></tr>\n",
       "\t<tr><th scope=row>TAIL_NUM</th><td>55164.898</td></tr>\n",
       "\t<tr><th scope=row>CRS_ELAPSED_TIME</th><td>51448.152</td></tr>\n",
       "\t<tr><th scope=row>DEP_DELAY</th><td>51433.114</td></tr>\n",
       "\t<tr><th scope=row>Pressure</th><td>50393.469</td></tr>\n",
       "\t<tr><th scope=row>Temperature</th><td>44576.305</td></tr>\n",
       "\t<tr><th scope=row>Humidity</th><td>44264.199</td></tr>\n",
       "\t<tr><th scope=row>X.Wind.Speed.</th><td>43977.945</td></tr>\n",
       "\t<tr><th scope=row>X.Dew.Point.</th><td>42685.559</td></tr>\n",
       "\t<tr><th scope=row>sch_arr</th><td>42599.014</td></tr>\n",
       "\t<tr><th scope=row>DAY_OF_MONTH</th><td>40324.592</td></tr>\n",
       "\t<tr><th scope=row>DISTANCE</th><td>38873.976</td></tr>\n",
       "\t<tr><th scope=row>DAY_OF_WEEK</th><td>26975.813</td></tr>\n",
       "\t<tr><th scope=row>X.Wind.Gust.</th><td>20257.903</td></tr>\n",
       "\t<tr><th scope=row>MONTH</th><td>17554.865</td></tr>\n",
       "\t<tr><th scope=row>OP_UNIQUE_CARRIERB6</th><td>14995.733</td></tr>\n",
       "\t<tr><th scope=row>OP_UNIQUE_CARRIERAS</th><td>12759.835</td></tr>\n",
       "\t<tr><th scope=row>OP_UNIQUE_CARRIERDL</th><td> 8476.794</td></tr>\n",
       "\t<tr><th scope=row>ConditionMostly.Cloudy</th><td> 8136.932</td></tr>\n",
       "\t<tr><th scope=row>ConditionPartly.Cloudy</th><td> 6265.366</td></tr>\n",
       "\t<tr><th scope=row>WindW</th><td> 6135.491</td></tr>\n",
       "\t<tr><th scope=row>WindWSW</th><td> 6013.708</td></tr>\n",
       "\t<tr><th scope=row>ConditionFair</th><td> 6010.723</td></tr>\n",
       "\t<tr><th scope=row>OP_UNIQUE_CARRIERAA</th><td> 5469.223</td></tr>\n",
       "\t<tr><th scope=row>WindNW</th><td> 5423.631</td></tr>\n",
       "\t<tr><th scope=row>WindN</th><td> 5293.223</td></tr>\n",
       "\t<tr><th scope=row>WindNNW</th><td> 4820.788</td></tr>\n",
       "\t<tr><th scope=row>⋮</th><td>⋮</td></tr>\n",
       "\t<tr><th scope=row>WindVAR</th><td>882.37537</td></tr>\n",
       "\t<tr><th scope=row>DESTSAT</th><td>841.30476</td></tr>\n",
       "\t<tr><th scope=row>DESTSTT</th><td>839.97675</td></tr>\n",
       "\t<tr><th scope=row>ConditionHeavy.Rain</th><td>825.11589</td></tr>\n",
       "\t<tr><th scope=row>DESTLGB</th><td>754.82949</td></tr>\n",
       "\t<tr><th scope=row>ConditionLight.Drizzle</th><td>710.72712</td></tr>\n",
       "\t<tr><th scope=row>DESTBQN</th><td>542.39524</td></tr>\n",
       "\t<tr><th scope=row>DESTSRQ</th><td>522.27612</td></tr>\n",
       "\t<tr><th scope=row>DESTPSE</th><td>498.44556</td></tr>\n",
       "\t<tr><th scope=row>ConditionLight.Snow...Windy</th><td>457.37327</td></tr>\n",
       "\t<tr><th scope=row>DESTBUR</th><td>403.27786</td></tr>\n",
       "\t<tr><th scope=row>DESTONT</th><td>355.82341</td></tr>\n",
       "\t<tr><th scope=row>DESTHNL</th><td>312.52581</td></tr>\n",
       "\t<tr><th scope=row>DESTPHL</th><td>293.88400</td></tr>\n",
       "\t<tr><th scope=row>OP_UNIQUE_CARRIERHA</th><td>266.28096</td></tr>\n",
       "\t<tr><th scope=row>DESTRNO</th><td>245.29649</td></tr>\n",
       "\t<tr><th scope=row>DESTPSP</th><td>241.74471</td></tr>\n",
       "\t<tr><th scope=row>DESTSMF</th><td>236.24847</td></tr>\n",
       "\t<tr><th scope=row>ConditionLight.Drizzle...Windy</th><td>232.71333</td></tr>\n",
       "\t<tr><th scope=row>DESTOAK</th><td>232.32484</td></tr>\n",
       "\t<tr><th scope=row>ConditionWintry.Mix...Windy</th><td>193.41619</td></tr>\n",
       "\t<tr><th scope=row>DESTORH</th><td>173.46737</td></tr>\n",
       "\t<tr><th scope=row>ConditionLight.Freezing.Rain</th><td>151.99552</td></tr>\n",
       "\t<tr><th scope=row>DESTEGE</th><td>132.97226</td></tr>\n",
       "\t<tr><th scope=row>ConditionSnow</th><td>119.74599</td></tr>\n",
       "\t<tr><th scope=row>ConditionFog...Windy</th><td>108.93732</td></tr>\n",
       "\t<tr><th scope=row>ConditionDrizzle.and.Fog</th><td>103.06639</td></tr>\n",
       "\t<tr><th scope=row>ConditionRain...Windy</th><td> 82.04511</td></tr>\n",
       "\t<tr><th scope=row>ConditionHeavy.Rain...Windy</th><td> 40.37155</td></tr>\n",
       "\t<tr><th scope=row>DESTJAC</th><td> 13.21899</td></tr>\n",
       "</tbody>\n",
       "</table>\n"
      ],
      "text/latex": [
       "A data.frame: 131 × 1\n",
       "\\begin{tabular}{r|l}\n",
       "  & tmp.order.tmp..decreasing...TRUE..\\\\\n",
       "  & <dbl>\\\\\n",
       "\\hline\n",
       "\tDEP\\_TIME\\_M & 72060.848\\\\\n",
       "\tsch\\_dep & 59748.078\\\\\n",
       "\tCRS\\_ARR\\_M & 59041.246\\\\\n",
       "\tCRS\\_DEP\\_M & 58012.286\\\\\n",
       "\tTAIL\\_NUM & 55164.898\\\\\n",
       "\tCRS\\_ELAPSED\\_TIME & 51448.152\\\\\n",
       "\tDEP\\_DELAY & 51433.114\\\\\n",
       "\tPressure & 50393.469\\\\\n",
       "\tTemperature & 44576.305\\\\\n",
       "\tHumidity & 44264.199\\\\\n",
       "\tX.Wind.Speed. & 43977.945\\\\\n",
       "\tX.Dew.Point. & 42685.559\\\\\n",
       "\tsch\\_arr & 42599.014\\\\\n",
       "\tDAY\\_OF\\_MONTH & 40324.592\\\\\n",
       "\tDISTANCE & 38873.976\\\\\n",
       "\tDAY\\_OF\\_WEEK & 26975.813\\\\\n",
       "\tX.Wind.Gust. & 20257.903\\\\\n",
       "\tMONTH & 17554.865\\\\\n",
       "\tOP\\_UNIQUE\\_CARRIERB6 & 14995.733\\\\\n",
       "\tOP\\_UNIQUE\\_CARRIERAS & 12759.835\\\\\n",
       "\tOP\\_UNIQUE\\_CARRIERDL &  8476.794\\\\\n",
       "\tConditionMostly.Cloudy &  8136.932\\\\\n",
       "\tConditionPartly.Cloudy &  6265.366\\\\\n",
       "\tWindW &  6135.491\\\\\n",
       "\tWindWSW &  6013.708\\\\\n",
       "\tConditionFair &  6010.723\\\\\n",
       "\tOP\\_UNIQUE\\_CARRIERAA &  5469.223\\\\\n",
       "\tWindNW &  5423.631\\\\\n",
       "\tWindN &  5293.223\\\\\n",
       "\tWindNNW &  4820.788\\\\\n",
       "\t⋮ & ⋮\\\\\n",
       "\tWindVAR & 882.37537\\\\\n",
       "\tDESTSAT & 841.30476\\\\\n",
       "\tDESTSTT & 839.97675\\\\\n",
       "\tConditionHeavy.Rain & 825.11589\\\\\n",
       "\tDESTLGB & 754.82949\\\\\n",
       "\tConditionLight.Drizzle & 710.72712\\\\\n",
       "\tDESTBQN & 542.39524\\\\\n",
       "\tDESTSRQ & 522.27612\\\\\n",
       "\tDESTPSE & 498.44556\\\\\n",
       "\tConditionLight.Snow...Windy & 457.37327\\\\\n",
       "\tDESTBUR & 403.27786\\\\\n",
       "\tDESTONT & 355.82341\\\\\n",
       "\tDESTHNL & 312.52581\\\\\n",
       "\tDESTPHL & 293.88400\\\\\n",
       "\tOP\\_UNIQUE\\_CARRIERHA & 266.28096\\\\\n",
       "\tDESTRNO & 245.29649\\\\\n",
       "\tDESTPSP & 241.74471\\\\\n",
       "\tDESTSMF & 236.24847\\\\\n",
       "\tConditionLight.Drizzle...Windy & 232.71333\\\\\n",
       "\tDESTOAK & 232.32484\\\\\n",
       "\tConditionWintry.Mix...Windy & 193.41619\\\\\n",
       "\tDESTORH & 173.46737\\\\\n",
       "\tConditionLight.Freezing.Rain & 151.99552\\\\\n",
       "\tDESTEGE & 132.97226\\\\\n",
       "\tConditionSnow & 119.74599\\\\\n",
       "\tConditionFog...Windy & 108.93732\\\\\n",
       "\tConditionDrizzle.and.Fog & 103.06639\\\\\n",
       "\tConditionRain...Windy &  82.04511\\\\\n",
       "\tConditionHeavy.Rain...Windy &  40.37155\\\\\n",
       "\tDESTJAC &  13.21899\\\\\n",
       "\\end{tabular}\n"
      ],
      "text/markdown": [
       "\n",
       "A data.frame: 131 × 1\n",
       "\n",
       "| <!--/--> | tmp.order.tmp..decreasing...TRUE.. &lt;dbl&gt; |\n",
       "|---|---|\n",
       "| DEP_TIME_M | 72060.848 |\n",
       "| sch_dep | 59748.078 |\n",
       "| CRS_ARR_M | 59041.246 |\n",
       "| CRS_DEP_M | 58012.286 |\n",
       "| TAIL_NUM | 55164.898 |\n",
       "| CRS_ELAPSED_TIME | 51448.152 |\n",
       "| DEP_DELAY | 51433.114 |\n",
       "| Pressure | 50393.469 |\n",
       "| Temperature | 44576.305 |\n",
       "| Humidity | 44264.199 |\n",
       "| X.Wind.Speed. | 43977.945 |\n",
       "| X.Dew.Point. | 42685.559 |\n",
       "| sch_arr | 42599.014 |\n",
       "| DAY_OF_MONTH | 40324.592 |\n",
       "| DISTANCE | 38873.976 |\n",
       "| DAY_OF_WEEK | 26975.813 |\n",
       "| X.Wind.Gust. | 20257.903 |\n",
       "| MONTH | 17554.865 |\n",
       "| OP_UNIQUE_CARRIERB6 | 14995.733 |\n",
       "| OP_UNIQUE_CARRIERAS | 12759.835 |\n",
       "| OP_UNIQUE_CARRIERDL |  8476.794 |\n",
       "| ConditionMostly.Cloudy |  8136.932 |\n",
       "| ConditionPartly.Cloudy |  6265.366 |\n",
       "| WindW |  6135.491 |\n",
       "| WindWSW |  6013.708 |\n",
       "| ConditionFair |  6010.723 |\n",
       "| OP_UNIQUE_CARRIERAA |  5469.223 |\n",
       "| WindNW |  5423.631 |\n",
       "| WindN |  5293.223 |\n",
       "| WindNNW |  4820.788 |\n",
       "| ⋮ | ⋮ |\n",
       "| WindVAR | 882.37537 |\n",
       "| DESTSAT | 841.30476 |\n",
       "| DESTSTT | 839.97675 |\n",
       "| ConditionHeavy.Rain | 825.11589 |\n",
       "| DESTLGB | 754.82949 |\n",
       "| ConditionLight.Drizzle | 710.72712 |\n",
       "| DESTBQN | 542.39524 |\n",
       "| DESTSRQ | 522.27612 |\n",
       "| DESTPSE | 498.44556 |\n",
       "| ConditionLight.Snow...Windy | 457.37327 |\n",
       "| DESTBUR | 403.27786 |\n",
       "| DESTONT | 355.82341 |\n",
       "| DESTHNL | 312.52581 |\n",
       "| DESTPHL | 293.88400 |\n",
       "| OP_UNIQUE_CARRIERHA | 266.28096 |\n",
       "| DESTRNO | 245.29649 |\n",
       "| DESTPSP | 241.74471 |\n",
       "| DESTSMF | 236.24847 |\n",
       "| ConditionLight.Drizzle...Windy | 232.71333 |\n",
       "| DESTOAK | 232.32484 |\n",
       "| ConditionWintry.Mix...Windy | 193.41619 |\n",
       "| DESTORH | 173.46737 |\n",
       "| ConditionLight.Freezing.Rain | 151.99552 |\n",
       "| DESTEGE | 132.97226 |\n",
       "| ConditionSnow | 119.74599 |\n",
       "| ConditionFog...Windy | 108.93732 |\n",
       "| ConditionDrizzle.and.Fog | 103.06639 |\n",
       "| ConditionRain...Windy |  82.04511 |\n",
       "| ConditionHeavy.Rain...Windy |  40.37155 |\n",
       "| DESTJAC |  13.21899 |\n",
       "\n"
      ],
      "text/plain": [
       "                               tmp.order.tmp..decreasing...TRUE..\n",
       "DEP_TIME_M                     72060.848                         \n",
       "sch_dep                        59748.078                         \n",
       "CRS_ARR_M                      59041.246                         \n",
       "CRS_DEP_M                      58012.286                         \n",
       "TAIL_NUM                       55164.898                         \n",
       "CRS_ELAPSED_TIME               51448.152                         \n",
       "DEP_DELAY                      51433.114                         \n",
       "Pressure                       50393.469                         \n",
       "Temperature                    44576.305                         \n",
       "Humidity                       44264.199                         \n",
       "X.Wind.Speed.                  43977.945                         \n",
       "X.Dew.Point.                   42685.559                         \n",
       "sch_arr                        42599.014                         \n",
       "DAY_OF_MONTH                   40324.592                         \n",
       "DISTANCE                       38873.976                         \n",
       "DAY_OF_WEEK                    26975.813                         \n",
       "X.Wind.Gust.                   20257.903                         \n",
       "MONTH                          17554.865                         \n",
       "OP_UNIQUE_CARRIERB6            14995.733                         \n",
       "OP_UNIQUE_CARRIERAS            12759.835                         \n",
       "OP_UNIQUE_CARRIERDL             8476.794                         \n",
       "ConditionMostly.Cloudy          8136.932                         \n",
       "ConditionPartly.Cloudy          6265.366                         \n",
       "WindW                           6135.491                         \n",
       "WindWSW                         6013.708                         \n",
       "ConditionFair                   6010.723                         \n",
       "OP_UNIQUE_CARRIERAA             5469.223                         \n",
       "WindNW                          5423.631                         \n",
       "WindN                           5293.223                         \n",
       "WindNNW                         4820.788                         \n",
       "⋮                              ⋮                                 \n",
       "WindVAR                        882.37537                         \n",
       "DESTSAT                        841.30476                         \n",
       "DESTSTT                        839.97675                         \n",
       "ConditionHeavy.Rain            825.11589                         \n",
       "DESTLGB                        754.82949                         \n",
       "ConditionLight.Drizzle         710.72712                         \n",
       "DESTBQN                        542.39524                         \n",
       "DESTSRQ                        522.27612                         \n",
       "DESTPSE                        498.44556                         \n",
       "ConditionLight.Snow...Windy    457.37327                         \n",
       "DESTBUR                        403.27786                         \n",
       "DESTONT                        355.82341                         \n",
       "DESTHNL                        312.52581                         \n",
       "DESTPHL                        293.88400                         \n",
       "OP_UNIQUE_CARRIERHA            266.28096                         \n",
       "DESTRNO                        245.29649                         \n",
       "DESTPSP                        241.74471                         \n",
       "DESTSMF                        236.24847                         \n",
       "ConditionLight.Drizzle...Windy 232.71333                         \n",
       "DESTOAK                        232.32484                         \n",
       "ConditionWintry.Mix...Windy    193.41619                         \n",
       "DESTORH                        173.46737                         \n",
       "ConditionLight.Freezing.Rain   151.99552                         \n",
       "DESTEGE                        132.97226                         \n",
       "ConditionSnow                  119.74599                         \n",
       "ConditionFog...Windy           108.93732                         \n",
       "ConditionDrizzle.and.Fog       103.06639                         \n",
       "ConditionRain...Windy           82.04511                         \n",
       "ConditionHeavy.Rain...Windy     40.37155                         \n",
       "DESTJAC                         13.21899                         "
      ]
     },
     "metadata": {},
     "output_type": "display_data"
    },
    {
     "data": {
      "text/html": [
       "5.59353218667658"
      ],
      "text/latex": [
       "5.59353218667658"
      ],
      "text/markdown": [
       "5.59353218667658"
      ],
      "text/plain": [
       "[1] 5.593532"
      ]
     },
     "metadata": {},
     "output_type": "display_data"
    }
   ],
   "source": [
    "rf <- RFTrainer$new(n_estimators = 500,classification = 0)\n",
    "rf$fit(X = train, y = \"TAXI_OUT\")\n",
    "pred <- rf$predict(df = test)\n",
    "rf$get_importance()\n",
    "r26 <- rmse(actual = test$TAXI_OUT, predicted = pred)\n",
    "r26"
   ]
  },
  {
   "cell_type": "markdown",
   "id": "b806417e",
   "metadata": {
    "papermill": {
     "duration": 0.067153,
     "end_time": "2021-07-07T11:35:19.265002",
     "exception": false,
     "start_time": "2021-07-07T11:35:19.197849",
     "status": "completed"
    },
    "tags": []
   },
   "source": [
    "# Naive bayes"
   ]
  },
  {
   "cell_type": "code",
   "execution_count": 20,
   "id": "bb269853",
   "metadata": {
    "execution": {
     "iopub.execute_input": "2021-07-07T11:35:19.408222Z",
     "iopub.status.busy": "2021-07-07T11:35:19.405800Z",
     "iopub.status.idle": "2021-07-07T11:35:38.490524Z",
     "shell.execute_reply": "2021-07-07T11:35:38.488179Z"
    },
    "papermill": {
     "duration": 19.158364,
     "end_time": "2021-07-07T11:35:38.490801",
     "exception": false,
     "start_time": "2021-07-07T11:35:19.332437",
     "status": "completed"
    },
    "tags": []
   },
   "outputs": [
    {
     "data": {
      "text/html": [
       "19.1275712871472"
      ],
      "text/latex": [
       "19.1275712871472"
      ],
      "text/markdown": [
       "19.1275712871472"
      ],
      "text/plain": [
       "[1] 19.12757"
      ]
     },
     "metadata": {},
     "output_type": "display_data"
    }
   ],
   "source": [
    "#7 Naive bayes\n",
    "model <- naiveBayes(train$TAXI_OUT~.,train)\n",
    "pred3 <-as.numeric( predict(model,test))\n",
    "r27 <- rmse(test$TAXI_OUT,pred3)\n",
    "r27"
   ]
  },
  {
   "cell_type": "markdown",
   "id": "2e4fa11c",
   "metadata": {
    "papermill": {
     "duration": 0.067228,
     "end_time": "2021-07-07T11:35:38.628290",
     "exception": false,
     "start_time": "2021-07-07T11:35:38.561062",
     "status": "completed"
    },
    "tags": []
   },
   "source": [
    "# light bgm"
   ]
  },
  {
   "cell_type": "code",
   "execution_count": 21,
   "id": "eb5cbf2b",
   "metadata": {
    "execution": {
     "iopub.execute_input": "2021-07-07T11:35:38.771513Z",
     "iopub.status.busy": "2021-07-07T11:35:38.769176Z",
     "iopub.status.idle": "2021-07-07T11:36:42.235590Z",
     "shell.execute_reply": "2021-07-07T11:36:42.234781Z"
    },
    "papermill": {
     "duration": 63.539208,
     "end_time": "2021-07-07T11:36:42.235831",
     "exception": false,
     "start_time": "2021-07-07T11:35:38.696623",
     "status": "completed"
    },
    "tags": []
   },
   "outputs": [
    {
     "name": "stderr",
     "output_type": "stream",
     "text": [
      "converting the data into xgboost format..\n",
      "\n",
      "starting with training...\n",
      "\n"
     ]
    },
    {
     "name": "stdout",
     "output_type": "stream",
     "text": [
      "[11:35:38] WARNING: amalgamation/../src/objective/regression_obj.cu:171: reg:linear is now deprecated in favor of reg:squarederror.\n",
      "[11:35:38] WARNING: amalgamation/../src/learner.cc:573: \n",
      "Parameters: { \"nrounds\" } might not be used.\n",
      "\n",
      "  This may not be accurate due to some parameters are only used in language bindings but\n",
      "  passed down to XGBoost core.  Or some parameters are not used but slip through this\n",
      "  verification. Please open an issue if you find above cases.\n",
      "\n",
      "\n",
      "[1]\ttrain-rmse:19.535215\tval-rmse:19.536146 \n",
      "Multiple eval metrics are present. Will use val_rmse for early stopping.\n",
      "Will train until val_rmse hasn't improved in 50 rounds.\n",
      "\n",
      "[51]\ttrain-rmse:5.634397\tval-rmse:5.874561 \n",
      "[101]\ttrain-rmse:5.312303\tval-rmse:5.757065 \n",
      "[151]\ttrain-rmse:5.085566\tval-rmse:5.713054 \n",
      "[201]\ttrain-rmse:4.886870\tval-rmse:5.680123 \n",
      "[251]\ttrain-rmse:4.706966\tval-rmse:5.651226 \n",
      "[301]\ttrain-rmse:4.546628\tval-rmse:5.624137 \n",
      "[351]\ttrain-rmse:4.397043\tval-rmse:5.613935 \n",
      "[401]\ttrain-rmse:4.248322\tval-rmse:5.599610 \n",
      "[451]\ttrain-rmse:4.109305\tval-rmse:5.589876 \n",
      "[500]\ttrain-rmse:3.977209\tval-rmse:5.584388 \n"
     ]
    },
    {
     "data": {
      "text/html": [
       "5.58111899188494"
      ],
      "text/latex": [
       "5.58111899188494"
      ],
      "text/markdown": [
       "5.58111899188494"
      ],
      "text/plain": [
       "[1] 5.581119"
      ]
     },
     "metadata": {},
     "output_type": "display_data"
    }
   ],
   "source": [
    "#8Light gbm\n",
    "gbm <- XGBTrainer$new(objective = \"reg:linear\"\n",
    "                      , n_estimators = 500\n",
    "                      , eval_metric = \"rmse\"\n",
    "                      , maximize = F\n",
    "                      , learning_rate = 0.1\n",
    "                      ,max_depth = 6)\n",
    "gbm$fit(X = train, y = \"TAXI_OUT\", valid = test)\n",
    "predx <- gbm$predict(test)\n",
    "r28 <- rmse(actual = test$TAXI_OUT, predicted = predx)\n",
    "r28"
   ]
  },
  {
   "cell_type": "markdown",
   "id": "55422525",
   "metadata": {
    "papermill": {
     "duration": 0.069294,
     "end_time": "2021-07-07T11:36:42.375269",
     "exception": false,
     "start_time": "2021-07-07T11:36:42.305975",
     "status": "completed"
    },
    "tags": []
   },
   "source": [
    "Comparison"
   ]
  },
  {
   "cell_type": "code",
   "execution_count": 22,
   "id": "9cc6bbbb",
   "metadata": {
    "execution": {
     "iopub.execute_input": "2021-07-07T11:36:42.520685Z",
     "iopub.status.busy": "2021-07-07T11:36:42.518432Z",
     "iopub.status.idle": "2021-07-07T11:36:42.648580Z",
     "shell.execute_reply": "2021-07-07T11:36:42.646955Z"
    },
    "papermill": {
     "duration": 0.205039,
     "end_time": "2021-07-07T11:36:42.648741",
     "exception": false,
     "start_time": "2021-07-07T11:36:42.443702",
     "status": "completed"
    },
    "tags": []
   },
   "outputs": [
    {
     "data": {
      "text/html": [
       "<table class=\"dataframe\">\n",
       "<caption>A data.frame: 8 × 3</caption>\n",
       "<thead>\n",
       "\t<tr><th scope=col>RMS1</th><th scope=col>RMS2</th><th scope=col>nm</th></tr>\n",
       "\t<tr><th scope=col>&lt;dbl&gt;</th><th scope=col>&lt;dbl&gt;</th><th scope=col>&lt;chr&gt;</th></tr>\n",
       "</thead>\n",
       "<tbody>\n",
       "\t<tr><td> 6.500136</td><td> 6.224739</td><td>Linear       </td></tr>\n",
       "\t<tr><td> 6.499837</td><td> 6.394473</td><td>Lasso        </td></tr>\n",
       "\t<tr><td> 6.518264</td><td> 6.524617</td><td>Ridge        </td></tr>\n",
       "\t<tr><td> 7.907982</td><td> 7.763009</td><td>Knn          </td></tr>\n",
       "\t<tr><td> 6.113588</td><td> 6.164281</td><td>SVR          </td></tr>\n",
       "\t<tr><td> 5.601646</td><td> 5.593532</td><td>Random forest</td></tr>\n",
       "\t<tr><td>11.055519</td><td>19.127571</td><td>Naive bayes  </td></tr>\n",
       "\t<tr><td> 5.565890</td><td> 5.581119</td><td>LightGbm     </td></tr>\n",
       "</tbody>\n",
       "</table>\n"
      ],
      "text/latex": [
       "A data.frame: 8 × 3\n",
       "\\begin{tabular}{lll}\n",
       " RMS1 & RMS2 & nm\\\\\n",
       " <dbl> & <dbl> & <chr>\\\\\n",
       "\\hline\n",
       "\t  6.500136 &  6.224739 & Linear       \\\\\n",
       "\t  6.499837 &  6.394473 & Lasso        \\\\\n",
       "\t  6.518264 &  6.524617 & Ridge        \\\\\n",
       "\t  7.907982 &  7.763009 & Knn          \\\\\n",
       "\t  6.113588 &  6.164281 & SVR          \\\\\n",
       "\t  5.601646 &  5.593532 & Random forest\\\\\n",
       "\t 11.055519 & 19.127571 & Naive bayes  \\\\\n",
       "\t  5.565890 &  5.581119 & LightGbm     \\\\\n",
       "\\end{tabular}\n"
      ],
      "text/markdown": [
       "\n",
       "A data.frame: 8 × 3\n",
       "\n",
       "| RMS1 &lt;dbl&gt; | RMS2 &lt;dbl&gt; | nm &lt;chr&gt; |\n",
       "|---|---|---|\n",
       "|  6.500136 |  6.224739 | Linear        |\n",
       "|  6.499837 |  6.394473 | Lasso         |\n",
       "|  6.518264 |  6.524617 | Ridge         |\n",
       "|  7.907982 |  7.763009 | Knn           |\n",
       "|  6.113588 |  6.164281 | SVR           |\n",
       "|  5.601646 |  5.593532 | Random forest |\n",
       "| 11.055519 | 19.127571 | Naive bayes   |\n",
       "|  5.565890 |  5.581119 | LightGbm      |\n",
       "\n"
      ],
      "text/plain": [
       "  RMS1      RMS2      nm           \n",
       "1  6.500136  6.224739 Linear       \n",
       "2  6.499837  6.394473 Lasso        \n",
       "3  6.518264  6.524617 Ridge        \n",
       "4  7.907982  7.763009 Knn          \n",
       "5  6.113588  6.164281 SVR          \n",
       "6  5.601646  5.593532 Random forest\n",
       "7 11.055519 19.127571 Naive bayes  \n",
       "8  5.565890  5.581119 LightGbm     "
      ]
     },
     "metadata": {},
     "output_type": "display_data"
    },
    {
     "data": {
      "image/png": "[encoded data removed]"
     },
     "metadata": {
      "image/png": {
       "height": 420,
       "width": 420
      }
     },
     "output_type": "display_data"
    }
   ],
   "source": [
    "RMS1 <- c(r11,r12,r13,r14,r15,r16,r17,r18)\n",
    "RMS2 <- c(r21,r22,r23,r24,r25,r26,r27,r28)\n",
    "nm <- c(\"Linear\",\"Lasso\",\"Ridge\",\"Knn\",\"SVR\",\"Random forest\",\"Naive bayes\",\"LightGbm\")\n",
    "dfr <- data.frame(RMS1,RMS2,nm)\n",
    "View(dfr)\n",
    "library(car)\n",
    "plot(x=seq(nm), y=RMS1, type=\"b\", lty=1,pch=19,col=\"red\", ylim=c(5,20),\n",
    "     axes=F, bty=\"n\", xaxs=\"i\", yaxs=\"i\", main=\"Comparison\",\n",
    "     xlab=\"\", ylab=\"RMS\")\n",
    "lines(x=seq(nm), y=RMS2, pch=19,type=\"b\",col=\"blue\",lty=2)\n",
    "# add axes\n",
    "axis(side=1, labels=nm, at=seq(nm))\n",
    "axis(side=2, at=seq(5,20,1), las=1)\n",
    "\n",
    "# add legend\n",
    "par(xpd=TRUE)\n",
    "legend(x=1.5, y=2, legend=c(\"RMS1\", \"RMS2\"),col=c(\"red\",\"blue\"), lty=1:2, cex=.8,box.lty=0, ncol=2)\n"
   ]
  },
  {
   "cell_type": "markdown",
   "id": "f59d7b9d",
   "metadata": {
    "papermill": {
     "duration": 0.073511,
     "end_time": "2021-07-07T11:36:42.794168",
     "exception": false,
     "start_time": "2021-07-07T11:36:42.720657",
     "status": "completed"
    },
    "tags": []
   },
   "source": []
  },
  {
   "cell_type": "markdown",
   "id": "2d23ba8e",
   "metadata": {
    "papermill": {
     "duration": 0.07299,
     "end_time": "2021-07-07T11:36:42.940209",
     "exception": false,
     "start_time": "2021-07-07T11:36:42.867219",
     "status": "completed"
    },
    "tags": []
   },
   "source": []
  }
 ],
 "metadata": {
  "kernelspec": {
   "display_name": "R",
   "language": "R",
   "name": "ir"
  },
  "language_info": {
   "codemirror_mode": "r",
   "file_extension": ".r",
   "mimetype": "text/x-r-source",
   "name": "R",
   "pygments_lexer": "r",
   "version": "4.0.5"
  },
  "papermill": {
   "default_parameters": {},
   "duration": 1187.147065,
   "end_time": "2021-07-07T11:36:44.088599",
   "environment_variables": {},
   "exception": null,
   "input_path": "__notebook__.ipynb",
   "output_path": "__notebook__.ipynb",
   "parameters": {},
   "start_time": "2021-07-07T11:16:56.941534",
   "version": "2.3.3"
  }
 },
 "nbformat": 4,
 "nbformat_minor": 5
}
